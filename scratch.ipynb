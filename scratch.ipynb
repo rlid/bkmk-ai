{
 "cells": [
  {
   "cell_type": "code",
   "execution_count": 1,
   "metadata": {
    "ExecuteTime": {
     "end_time": "2024-01-14T17:57:16.138902872Z",
     "start_time": "2024-01-14T17:57:16.118277418Z"
    }
   },
   "outputs": [],
   "source": [
    "from bs4 import BeautifulSoup\n",
    "import requests"
   ]
  },
  {
   "cell_type": "code",
   "outputs": [
    {
     "name": "stdout",
     "output_type": "stream",
     "text": [
      "[' SQUARE ENIX', ' MMO', ' ファイナルファンタジー', ' Final Fantasy XIV (Video Game)', 'FF14', ' FFXIV', ' スクウェア・エニックス', ' スクエニ']\n"
     ]
    }
   ],
   "source": [
    "def extract_title(soup):\n",
    "    try:\n",
    "        # Custom tag 'shreddit-title'\n",
    "        title_tag = soup.find('shreddit-title')\n",
    "        if title_tag and 'title' in title_tag.attrs:\n",
    "            print('')\n",
    "            return title_tag['title'].strip()\n",
    "\n",
    "        # Standard HTML title tag\n",
    "        title_tag = soup.find('title')\n",
    "        if title_tag:\n",
    "            return title_tag.get_text(strip=True)\n",
    "\n",
    "        # Open Graph title\n",
    "        og_title = soup.find('meta', attrs={'property': 'og:title', 'content': True})\n",
    "        if og_title:\n",
    "            return og_title['content'].strip()\n",
    "\n",
    "        # Twitter-specific title\n",
    "        twitter_title = soup.find('meta', attrs={'name': 'twitter:title', 'content': True})\n",
    "        if twitter_title:\n",
    "            return twitter_title['content'].strip()\n",
    "\n",
    "        # Schema.org title\n",
    "        schema_title = soup.find('meta', attrs={'itemprop': 'name', 'content': True})\n",
    "        if schema_title:\n",
    "            return schema_title['content'].strip()\n",
    "\n",
    "        # HTML5 microdata\n",
    "        microdata_title = soup.find(attrs={'itemprop': 'headline'})\n",
    "        if microdata_title:\n",
    "            return microdata_title.get_text(strip=True)\n",
    "\n",
    "        # Dublin Core title\n",
    "        dc_title = soup.find('meta', attrs={'name': 'DC.title', 'content': True})\n",
    "        if dc_title:\n",
    "            return dc_title['content'].strip()\n",
    "\n",
    "        # h1 tags\n",
    "        h1_title = soup.find('h1')\n",
    "        if h1_title:\n",
    "            return h1_title.get_text(strip=True)\n",
    "\n",
    "        # Apple-specific title\n",
    "        apple_title = soup.find('meta', attrs={'name': 'apple-mobile-web-app-title', 'content': True})\n",
    "        if apple_title:\n",
    "            return apple_title['content'].strip()\n",
    "\n",
    "        # Facebook-specific title\n",
    "        fb_title = soup.find('meta', attrs={'property': 'fb:title', 'content': True})\n",
    "        if fb_title:\n",
    "            return fb_title['content'].strip()\n",
    "\n",
    "        # h2 tags\n",
    "        h2_title = soup.find('h2')\n",
    "        if h2_title:\n",
    "            return h2_title.get_text(strip=True)\n",
    "\n",
    "        # Alternative meta tag for title\n",
    "        alt_meta_title = soup.find('meta', attrs={'name': 'title', 'content': True})\n",
    "        if alt_meta_title:\n",
    "            return alt_meta_title['content'].strip()\n",
    "\n",
    "        # Reddit-specific title\n",
    "        reddit_title = soup.find('meta', attrs={'property': 'og:title', 'content': True, 'data-reddit': True})\n",
    "        if reddit_title:\n",
    "            return reddit_title['content'].strip()\n",
    "\n",
    "        # Fallback to None if no title is found\n",
    "        return None\n",
    "    except Exception as e:\n",
    "        print(e)\n",
    "        return None\n",
    "    \n",
    "def extract_description(soup):\n",
    "    try:\n",
    "        # Standard meta tag with name='description'\n",
    "        description_tag = soup.find('meta', attrs={'name': 'description'})\n",
    "        if description_tag and 'content' in description_tag.attrs:\n",
    "            print('Standard meta tag')\n",
    "            return description_tag['content'].strip()\n",
    "\n",
    "        # Open Graph description\n",
    "        og_description = soup.find('meta', attrs={'property': 'og:description'})\n",
    "        if og_description and 'content' in og_description.attrs:\n",
    "            print('Open Graph description')\n",
    "            return og_description['content'].strip()\n",
    "\n",
    "        # Twitter card description\n",
    "        twitter_description = soup.find('meta', attrs={'name': 'twitter:description'})\n",
    "        if twitter_description and 'content' in twitter_description.attrs:\n",
    "            print('Twitter card description')\n",
    "            return twitter_description['content'].strip()\n",
    "\n",
    "        # Additional meta tag checks\n",
    "        additional_meta_tags = ['og:title', 'twitter:title', 'keywords']\n",
    "        for tag in additional_meta_tags:\n",
    "            result = soup.find('meta', attrs={'property': tag, 'name': tag})\n",
    "            if result and 'content' in result.attrs:\n",
    "                print(f'Additional meta tag checks - {tag}')\n",
    "                return result['content'].strip()\n",
    "\n",
    "        # HTML tags like p or div with specific IDs or classes (this is highly specific to the website)\n",
    "        html_tags = [('p', 'description'), ('div', 'description'), ('section', 'description')]\n",
    "        for tag, class_name in html_tags:\n",
    "            result = soup.find(tag, {'class': class_name})\n",
    "            if result:\n",
    "                print(f'HTML tags like p or div with specific IDs or classes - {tag, class_name}')\n",
    "                return result.get_text().strip()\n",
    "\n",
    "        return None\n",
    "    except Exception as e:\n",
    "        return None\n",
    "\n",
    "\n",
    "def extract_keywords(url):\n",
    "    \"\"\"\n",
    "    Extract keywords from the meta tags of a webpage.\n",
    "\n",
    "    Parameters:\n",
    "    url (str): The URL of the webpage to extract keywords from.\n",
    "\n",
    "    Returns:\n",
    "    list: A list of keywords found in the meta tags.\n",
    "    \"\"\"\n",
    "    try:\n",
    "        # Fetch the content of the webpage\n",
    "        response = requests.get(url)\n",
    "        response.raise_for_status()  # Raise an exception for HTTP errors\n",
    "\n",
    "        # Parse the webpage content\n",
    "        soup = BeautifulSoup(response.text, 'html.parser')\n",
    "\n",
    "        # Initialize an empty set to store unique keywords\n",
    "        keywords = set()\n",
    "\n",
    "        # Look for meta tags that commonly contain keywords\n",
    "        for meta in soup.find_all('meta'):\n",
    "            if 'name' in meta.attrs and meta.attrs['name'].lower() in ['keywords']:\n",
    "                keywords.update(meta.attrs['content'].split(','))\n",
    "            elif 'property' in meta.attrs and meta.attrs['property'].lower() in ['og:keywords']:\n",
    "                keywords.update(meta.attrs['content'].split(','))\n",
    "\n",
    "        return list(keywords)\n",
    "    except requests.RequestException as e:\n",
    "        print(f\"Error fetching the webpage: {e}\")\n",
    "        return []\n",
    "\n",
    "# Example usage\n",
    "url = \"https://www.youtube.com/watch?v=9A2ljmmUT_I\"\n",
    "print(extract_keywords(url))"
   ],
   "metadata": {
    "collapsed": false,
    "ExecuteTime": {
     "end_time": "2024-01-14T18:19:07.692023867Z",
     "start_time": "2024-01-14T18:19:07.184538035Z"
    }
   },
   "execution_count": 34
  },
  {
   "cell_type": "code",
   "execution_count": 29,
   "metadata": {
    "ExecuteTime": {
     "end_time": "2024-01-14T18:15:51.951634029Z",
     "start_time": "2024-01-14T18:15:51.397810313Z"
    }
   },
   "outputs": [
    {
     "name": "stdout",
     "output_type": "stream",
     "text": [
      "Standard meta tag\n"
     ]
    },
    {
     "data": {
      "text/plain": "'Manage your ebook library without frustrations. Calibre compatible. - GitHub - every-day-things/citadel: Manage your ebook library without frustrations. Calibre compatible.'"
     },
     "execution_count": 29,
     "metadata": {},
     "output_type": "execute_result"
    }
   ],
   "source": [
    "url = 'https://github.com/every-day-things/citadel'\n",
    "response = requests.get(url)\n",
    "response.raise_for_status()\n",
    "soup = BeautifulSoup(response.content, 'html.parser')\n",
    "extract_description(soup)"
   ]
  },
  {
   "cell_type": "code",
   "execution_count": 6,
   "metadata": {
    "ExecuteTime": {
     "end_time": "2024-01-14T17:14:21.305914319Z",
     "start_time": "2024-01-14T17:14:21.265312845Z"
    }
   },
   "outputs": [],
   "source": [
    "soup.find('div')"
   ]
  },
  {
   "cell_type": "code",
   "execution_count": 71,
   "metadata": {
    "ExecuteTime": {
     "end_time": "2024-01-12T10:09:52.589401508Z",
     "start_time": "2024-01-12T10:09:52.548077106Z"
    }
   },
   "outputs": [
    {
     "data": {
      "text/plain": "True"
     },
     "execution_count": 71,
     "metadata": {},
     "output_type": "execute_result"
    }
   ],
   "source": []
  },
  {
   "cell_type": "code",
   "execution_count": 65,
   "metadata": {
    "ExecuteTime": {
     "end_time": "2024-01-12T10:02:29.843619493Z",
     "start_time": "2024-01-12T10:02:29.839944042Z"
    }
   },
   "outputs": [],
   "source": [
    "description_tag = soup.find('meta', attrs={'name': 'description'})\n",
    "if description_tag and 'content' in description_tag.attrs:\n",
    "    description = description_tag['content'].strip()"
   ]
  },
  {
   "cell_type": "code",
   "outputs": [
    {
     "data": {
      "text/plain": "<meta charset=\"utf-8\"/>"
     },
     "execution_count": 75,
     "metadata": {},
     "output_type": "execute_result"
    }
   ],
   "source": [
    "soup.find('meta')"
   ],
   "metadata": {
    "collapsed": false,
    "ExecuteTime": {
     "end_time": "2024-01-12T12:28:17.601406734Z",
     "start_time": "2024-01-12T12:28:17.557164832Z"
    }
   },
   "execution_count": 75
  },
  {
   "cell_type": "code",
   "outputs": [],
   "source": [
    "from llama_index import SummaryIndex\n",
    "from llama_index.readers import SimpleWebPageReader\n",
    "from IPython.display import Markdown, display\n",
    "import os"
   ],
   "metadata": {
    "collapsed": false,
    "ExecuteTime": {
     "end_time": "2024-01-14T17:37:19.377874030Z",
     "start_time": "2024-01-14T17:37:19.335190704Z"
    }
   },
   "execution_count": 13
  },
  {
   "cell_type": "code",
   "outputs": [],
   "source": [
    "documents = SimpleWebPageReader(html_to_text=True).load_data(\n",
    "    [\"https://www.apple.com/iphone-15-pro\"]\n",
    ")"
   ],
   "metadata": {
    "collapsed": false,
    "ExecuteTime": {
     "end_time": "2024-01-14T17:37:20.691182842Z",
     "start_time": "2024-01-14T17:37:20.444963631Z"
    }
   },
   "execution_count": 14
  },
  {
   "cell_type": "code",
   "outputs": [],
   "source": [
    "index = SummaryIndex.from_documents(documents)\n",
    "query_engine = index.as_query_engine()"
   ],
   "metadata": {
    "collapsed": false,
    "ExecuteTime": {
     "end_time": "2024-01-14T17:37:21.576451502Z",
     "start_time": "2024-01-14T17:37:21.483140510Z"
    }
   },
   "execution_count": 15
  },
  {
   "cell_type": "code",
   "outputs": [],
   "source": [
    "query_engine.query(\"what's new in iPhone 15 Pro?\")"
   ],
   "metadata": {
    "collapsed": false,
    "is_executing": true,
    "ExecuteTime": {
     "start_time": "2024-01-14T17:37:22.281416935Z"
    }
   },
   "execution_count": null
  },
  {
   "cell_type": "code",
   "outputs": [
    {
     "name": "stdout",
     "output_type": "stream",
     "text": [
      "Collecting trafilatura~=1.4 (from -r /home/rli/src/pinre/venv/lib/python3.12/site-packages/llama_index/download/llamahub_modules/requirements.txt (line 1))\n",
      "  Downloading trafilatura-1.6.4-py3-none-any.whl.metadata (16 kB)\n",
      "Requirement already satisfied: certifi in ./venv/lib/python3.12/site-packages (from trafilatura~=1.4->-r /home/rli/src/pinre/venv/lib/python3.12/site-packages/llama_index/download/llamahub_modules/requirements.txt (line 1)) (2023.11.17)\n",
      "Collecting courlan>=0.9.5 (from trafilatura~=1.4->-r /home/rli/src/pinre/venv/lib/python3.12/site-packages/llama_index/download/llamahub_modules/requirements.txt (line 1))\n",
      "  Downloading courlan-0.9.5-py3-none-any.whl.metadata (18 kB)\n",
      "Collecting htmldate>=1.6.1 (from trafilatura~=1.4->-r /home/rli/src/pinre/venv/lib/python3.12/site-packages/llama_index/download/llamahub_modules/requirements.txt (line 1))\n",
      "  Downloading htmldate-1.6.1-py3-none-any.whl.metadata (11 kB)\n",
      "Collecting justext>=3.0.0 (from trafilatura~=1.4->-r /home/rli/src/pinre/venv/lib/python3.12/site-packages/llama_index/download/llamahub_modules/requirements.txt (line 1))\n",
      "  Downloading jusText-3.0.0-py2.py3-none-any.whl (837 kB)\n",
      "\u001B[2K     \u001B[90m━━━━━━━━━━━━━━━━━━━━━━━━━━━━━━━━━━━━━━\u001B[0m \u001B[32m837.8/837.8 kB\u001B[0m \u001B[31m14.4 MB/s\u001B[0m eta \u001B[36m0:00:00\u001B[0ma \u001B[36m0:00:01\u001B[0m\n",
      "\u001B[?25hCollecting lxml==4.9.4 (from trafilatura~=1.4->-r /home/rli/src/pinre/venv/lib/python3.12/site-packages/llama_index/download/llamahub_modules/requirements.txt (line 1))\n",
      "  Downloading lxml-4.9.4-cp312-cp312-manylinux_2_28_x86_64.whl.metadata (3.7 kB)\n",
      "Requirement already satisfied: charset-normalizer>=3.2.0 in ./venv/lib/python3.12/site-packages (from trafilatura~=1.4->-r /home/rli/src/pinre/venv/lib/python3.12/site-packages/llama_index/download/llamahub_modules/requirements.txt (line 1)) (3.3.2)\n",
      "Requirement already satisfied: urllib3<3,>=1.26 in ./venv/lib/python3.12/site-packages (from trafilatura~=1.4->-r /home/rli/src/pinre/venv/lib/python3.12/site-packages/llama_index/download/llamahub_modules/requirements.txt (line 1)) (2.1.0)\n",
      "Collecting langcodes>=3.3.0 (from courlan>=0.9.5->trafilatura~=1.4->-r /home/rli/src/pinre/venv/lib/python3.12/site-packages/llama_index/download/llamahub_modules/requirements.txt (line 1))\n",
      "  Downloading langcodes-3.3.0-py3-none-any.whl (181 kB)\n",
      "\u001B[2K     \u001B[90m━━━━━━━━━━━━━━━━━━━━━━━━━━━━━━━━━━━━━━\u001B[0m \u001B[32m181.6/181.6 kB\u001B[0m \u001B[31m10.0 MB/s\u001B[0m eta \u001B[36m0:00:00\u001B[0m\n",
      "\u001B[?25hCollecting tld>=0.13 (from courlan>=0.9.5->trafilatura~=1.4->-r /home/rli/src/pinre/venv/lib/python3.12/site-packages/llama_index/download/llamahub_modules/requirements.txt (line 1))\n",
      "  Downloading tld-0.13-py2.py3-none-any.whl (263 kB)\n",
      "\u001B[2K     \u001B[90m━━━━━━━━━━━━━━━━━━━━━━━━━━━━━━━━━━━━━━\u001B[0m \u001B[32m263.8/263.8 kB\u001B[0m \u001B[31m15.9 MB/s\u001B[0m eta \u001B[36m0:00:00\u001B[0m\n",
      "\u001B[?25hCollecting dateparser>=1.1.2 (from htmldate>=1.6.1->trafilatura~=1.4->-r /home/rli/src/pinre/venv/lib/python3.12/site-packages/llama_index/download/llamahub_modules/requirements.txt (line 1))\n",
      "  Downloading dateparser-1.2.0-py2.py3-none-any.whl.metadata (28 kB)\n",
      "Requirement already satisfied: python-dateutil>=2.8.2 in ./venv/lib/python3.12/site-packages (from htmldate>=1.6.1->trafilatura~=1.4->-r /home/rli/src/pinre/venv/lib/python3.12/site-packages/llama_index/download/llamahub_modules/requirements.txt (line 1)) (2.8.2)\n",
      "Requirement already satisfied: pytz in ./venv/lib/python3.12/site-packages (from dateparser>=1.1.2->htmldate>=1.6.1->trafilatura~=1.4->-r /home/rli/src/pinre/venv/lib/python3.12/site-packages/llama_index/download/llamahub_modules/requirements.txt (line 1)) (2023.3.post1)\n",
      "Requirement already satisfied: regex!=2019.02.19,!=2021.8.27 in ./venv/lib/python3.12/site-packages (from dateparser>=1.1.2->htmldate>=1.6.1->trafilatura~=1.4->-r /home/rli/src/pinre/venv/lib/python3.12/site-packages/llama_index/download/llamahub_modules/requirements.txt (line 1)) (2023.12.25)\n",
      "Collecting tzlocal (from dateparser>=1.1.2->htmldate>=1.6.1->trafilatura~=1.4->-r /home/rli/src/pinre/venv/lib/python3.12/site-packages/llama_index/download/llamahub_modules/requirements.txt (line 1))\n",
      "  Downloading tzlocal-5.2-py3-none-any.whl.metadata (7.8 kB)\n",
      "Requirement already satisfied: six>=1.5 in ./venv/lib/python3.12/site-packages (from python-dateutil>=2.8.2->htmldate>=1.6.1->trafilatura~=1.4->-r /home/rli/src/pinre/venv/lib/python3.12/site-packages/llama_index/download/llamahub_modules/requirements.txt (line 1)) (1.16.0)\n",
      "Downloading trafilatura-1.6.4-py3-none-any.whl (1.0 MB)\n",
      "\u001B[2K   \u001B[90m━━━━━━━━━━━━━━━━━━━━━━━━━━━━━━━━━━━━━━━━\u001B[0m \u001B[32m1.0/1.0 MB\u001B[0m \u001B[31m15.7 MB/s\u001B[0m eta \u001B[36m0:00:00\u001B[0ma \u001B[36m0:00:01\u001B[0m\n",
      "\u001B[?25hDownloading lxml-4.9.4-cp312-cp312-manylinux_2_28_x86_64.whl (8.0 MB)\n",
      "\u001B[2K   \u001B[90m━━━━━━━━━━━━━━━━━━━━━━━━━━━━━━━━━━━━━━━━\u001B[0m \u001B[32m8.0/8.0 MB\u001B[0m \u001B[31m16.5 MB/s\u001B[0m eta \u001B[36m0:00:00\u001B[0m00:01\u001B[0m00:01\u001B[0m\n",
      "\u001B[?25hDownloading courlan-0.9.5-py3-none-any.whl (44 kB)\n",
      "\u001B[2K   \u001B[90m━━━━━━━━━━━━━━━━━━━━━━━━━━━━━━━━━━━━━━━━\u001B[0m \u001B[32m44.5/44.5 kB\u001B[0m \u001B[31m5.3 MB/s\u001B[0m eta \u001B[36m0:00:00\u001B[0m\n",
      "\u001B[?25hDownloading htmldate-1.6.1-py3-none-any.whl (40 kB)\n",
      "\u001B[2K   \u001B[90m━━━━━━━━━━━━━━━━━━━━━━━━━━━━━━━━━━━━━━━━\u001B[0m \u001B[32m40.7/40.7 kB\u001B[0m \u001B[31m4.3 MB/s\u001B[0m eta \u001B[36m0:00:00\u001B[0m\n",
      "\u001B[?25hDownloading dateparser-1.2.0-py2.py3-none-any.whl (294 kB)\n",
      "\u001B[2K   \u001B[90m━━━━━━━━━━━━━━━━━━━━━━━━━━━━━━━━━━━━━━━━\u001B[0m \u001B[32m295.0/295.0 kB\u001B[0m \u001B[31m11.5 MB/s\u001B[0m eta \u001B[36m0:00:00\u001B[0m\n",
      "\u001B[?25hDownloading tzlocal-5.2-py3-none-any.whl (17 kB)\n",
      "Installing collected packages: tzlocal, tld, lxml, langcodes, justext, dateparser, courlan, htmldate, trafilatura\n",
      "Successfully installed courlan-0.9.5 dateparser-1.2.0 htmldate-1.6.1 justext-3.0.0 langcodes-3.3.0 lxml-4.9.4 tld-0.13 trafilatura-1.6.4 tzlocal-5.2\n"
     ]
    }
   ],
   "source": [
    "from llama_index import download_loader\n",
    "\n",
    "TrafilaturaWebReader = download_loader(\"TrafilaturaWebReader\")\n",
    "\n",
    "loader = TrafilaturaWebReader()\n",
    "documents = loader.load_data(urls=['https://www.apple.com/iphone-15-pro'])"
   ],
   "metadata": {
    "collapsed": false,
    "ExecuteTime": {
     "end_time": "2024-01-14T17:34:42.629579196Z",
     "start_time": "2024-01-14T17:34:32.841686931Z"
    }
   },
   "execution_count": 3
  },
  {
   "cell_type": "code",
   "outputs": [
    {
     "data": {
      "text/plain": "Document(id_='https://www.apple.com/iphone-15-pro', embedding=None, metadata={}, excluded_embed_metadata_keys=[], excluded_llm_metadata_keys=[], relationships={}, hash='c6e306189e0879005ca66c2e2f807ea4cd8cafe54ecd592a222a525527dfe822', text='\\n\\n  * [Apple](/)\\n  *     * [Store](/us/shop/goto/store)\\n\\n    * [Mac](/mac/)\\n\\n    * [iPad](/ipad/)\\n\\n    * [iPhone](/iphone/)\\n\\n    * [Watch](/watch/)\\n\\n    * [Vision](/apple-vision-pro/)\\n\\n    * [AirPods](/airpods/)\\n\\n    * [TV & Home](/tv-home/)\\n\\n    * [Entertainment](/entertainment/)\\n\\n    * [Accessories](/us/shop/goto/buy_accessories)\\n\\n    * [Support](https://support.apple.com/?cid=gn-ols-home-hp-tab)\\n\\n  * [ ](/us/search)\\n\\n  * [](/us/shop/goto/bag)0+\\n\\n[ iPhone 15 Pro ](/iphone-15-pro/)\\n\\nLocal Nav Open Menu Local Nav Close Menu\\n\\n  * Overview\\n  * [Switch from Android to iPhone](/iphone-15-pro/switch/)\\n  * [Tech Specs](/iphone-15-pro/specs/)\\n\\n[Buy iPhone 15 Pro](/us/shop/goto/buy_iphone/iphone_15_pro)\\n\\n# iPhone 15 Pro and iPhone 15 Pro Max\\n\\nGet credit toward iPhone 15 Pro when you trade in iPhone 11 or higher.Get\\ncredit toward iPhone 15 Pro when you trade in iPhone 11 or higher.* [Buy\\niPhone 15 Pro](/us/shop/goto/buy_iphone/iphone_15_pro)\\n\\n##  iPhone 15 Pro\\n\\n![A side view of iPhone 15\\nPro](/v/iphone-15-pro/c/images/overview/welcome/hero__iztc7m63bfiy_large.jpg)\\n\\n![](/v/iphone-15-pro/c/images/overview/welcome/hero_endframe__ov6ewwmbhiqq_large.jpg)\\n![](/v/iphone-15-pro/c/images/overview/welcome/hero_endframe__ov6ewwmbhiqq_large.jpg)\\n![](/v/iphone-15-pro/c/images/overview/welcome/hero_startframe__ca87a9qj9rma_large.jpg)\\n![](/v/iphone-15-pro/c/images/overview/welcome/hero_startframe__ca87a9qj9rma_large.jpg)\\n\\n[ Buy ](/us/shop/goto/buy_iphone/iphone_15_pro)\\n\\n1\\n\\n## Get the  \\nhighlights.\\n\\n  * [Watch the iPhone 15 Pro film](/105/media/us/iphone-15-pro/2023/2f337511-a940-4b57-b89c-1512b7507777/films/product/iphone-15-pro-product-tpl-us-2023_16x9.m3u8)\\n  * [Watch the iPhone 15 Pro event](/apple-events/)\\n\\n  * Item 1\\n  * Item 2\\n  * Item 3\\n  * Item 4\\n\\nEnter A17 Pro.  \\nGame‑changing chip. Groundbreaking  \\nperformance.\\n\\nTitanium.  \\nSo strong. So light. So Pro.\\n\\niPhone 15 Pro Max has the longest optical zoom in iPhone ever. Far out.\\n\\nAll-new Action button.  \\nWhat will yours do?\\n\\n## Take a closer look.\\n\\n  * [ View in your space](/105/media/us/iphone/shared/ar/2023/f6ca1075-bfa5-441b-b6c2-61e5ce4c15b2/iphone-15-pro/iphone_15_pro_blue_titanium_5G.usdz)\\n\\n6.1” iPhone 15 Pro2 in four colors 6.7” iPhone 15 Pro Max2 and  \\n6.1” iPhone 15 Pro2 in Natural Titanium 6.7” iPhone 15 Pro Max2 and  \\n6.1” iPhone 15 Pro2 in Blue Titanium 6.7” iPhone 15 Pro Max2 and  \\n6.1” iPhone 15 Pro2 in White Titanium 6.7” iPhone 15 Pro Max2 and  \\n6.1” iPhone 15 Pro2 in Black Titanium\\n\\niPhone 15 Pro in Natural Titanium iPhone 15 Pro in Blue Titanium iPhone 15 Pro\\nin White Titanium iPhone 15 Pro in Black Titanium iPhone 15 Pro Max in Natural\\nTitanium iPhone 15 Pro Max in Blue Titanium iPhone 15 Pro Max in White\\nTitanium iPhone 15 Pro Max in Black Titanium\\n\\n  * All \\n  * Natural Titanium \\n  * Blue Titanium \\n  * White Titanium \\n  * Black Titanium \\n\\n  * 6.1” \\n  * 6.7” \\n\\n![Back view of 6.1″ iPhone 15 Pro in four different colors — Black Titanium,\\nWhite Titanium, Blue Titanium, and Natural\\nTitanium](/v/iphone-15-pro/c/images/overview/closer-\\nlook/all_colors__eppfcocn9mky_large.jpg) ![Back view of 6.1″ iPhone 15 Pro in\\nfour different colors — Black Titanium, White Titanium, Blue Titanium, and\\nNatural Titanium](/v/iphone-15-pro/c/images/overview/closer-\\nlook/all_colors__eppfcocn9mky_large.jpg)\\n\\n![Front view of 6.7″ iPhone 15 Pro Max and back view of 6.1″ iPhone 15 Pro in\\nNatural Titanium](/v/iphone-15-pro/c/images/overview/closer-\\nlook/natural_titanium__ccl12n7vwwxe_large.jpg) ![Front view of 6.7″ iPhone 15\\nPro Max and back view of 6.1″ iPhone 15 Pro in Natural\\nTitanium](/v/iphone-15-pro/c/images/overview/closer-\\nlook/natural_titanium__ccl12n7vwwxe_large.jpg)\\n\\n![Front view of 6.7″ iPhone 15 Pro Max and back view of 6.1″ iPhone 15 Pro in\\nBlue Titanium](/v/iphone-15-pro/c/images/overview/closer-\\nlook/blue_titanium__wsqgpa9i1822_large.jpg) ![Front view of 6.7″ iPhone 15 Pro\\nMax and back view of 6.1″ iPhone 15 Pro in Blue\\nTitanium](/v/iphone-15-pro/c/images/overview/closer-\\nlook/blue_titanium__wsqgpa9i1822_large.jpg)\\n\\n![Front view of 6.7″ iPhone 15 Pro Max and back view of 6.1″ iPhone 15 Pro in\\nWhite Titanium](/v/iphone-15-pro/c/images/overview/closer-\\nlook/white_titanium__b3fwwp6zrrhy_large.jpg) ![Front view of 6.7″ iPhone 15\\nPro Max and back view of 6.1″ iPhone 15 Pro in White\\nTitanium](/v/iphone-15-pro/c/images/overview/closer-\\nlook/white_titanium__b3fwwp6zrrhy_large.jpg)\\n\\n![Front view of 6.7″ iPhone 15 Pro Max and back view of 6.1″ iPhone 15 Pro in\\nBlack Titanium](/v/iphone-15-pro/c/images/overview/closer-\\nlook/black_titanium__e5htsz029002_large.jpg) ![Front view of 6.7″ iPhone 15\\nPro Max and back view of 6.1″ iPhone 15 Pro in Black\\nTitanium](/v/iphone-15-pro/c/images/overview/closer-\\nlook/black_titanium__e5htsz029002_large.jpg)\\n\\nClick and turn  \\nto explore iPhone. Tap and turn  \\nto explore iPhone.\\n\\n![](/v/iphone-15-pro/c/images/overview/closer-\\nlook/loader__fq33nw7c78mu_large.jpg)\\n![](/v/iphone-15-pro/c/images/overview/closer-\\nlook/loader__fq33nw7c78mu_large.jpg)\\n\\n## Explore the full story.\\n\\n### Design and Display\\n\\n#### iPhone.  \\nForged in titanium.\\n\\n![](/v/iphone-15-pro/c/images/overview/design/titanium_endframe__jkbvub6cqj6u_large.jpg)\\n![](/v/iphone-15-pro/c/images/overview/design/titanium_endframe__jkbvub6cqj6u_large.jpg)\\n![](/v/iphone-15-pro/c/images/overview/design/titanium_startframe__cxpg38t8hkgi_large.jpg)\\n![](/v/iphone-15-pro/c/images/overview/design/titanium_startframe__cxpg38t8hkgi_large.jpg)\\n\\n![Top back view of iPhone 15 Pro showing the titanium\\nbands](/v/iphone-15-pro/c/images/overview/design/lightest__boybgwifuehe_large.jpg)\\n![Top back view of iPhone 15 Pro showing the titanium\\nbands](/v/iphone-15-pro/c/images/overview/design/lightest__boybgwifuehe_large.jpg)\\n\\n![Close-up side view of iPhone 15 Pro showing the titanium bands, the Action\\nbutton, and volume up\\nbutton](/v/iphone-15-pro/c/images/overview/design/durable__omxi3w443rue_large.jpg)\\n![Close-up side view of iPhone 15 Pro showing the titanium bands, the Action\\nbutton, and volume up\\nbutton](/v/iphone-15-pro/c/images/overview/design/durable__omxi3w443rue_large.jpg)\\n\\niPhone 15 Pro is **the first iPhone to feature an aerospace ‑grade titanium\\ndesign**, using the same alloy that spacecraft use for missions to Mars.\\n\\nTitanium has one of the best strength‑to‑weight ratios of any metal, making\\nthese our **lightest Pro models ever**. You’ll notice the difference the\\nmoment you pick one up.\\n\\nMore on design & display\\n\\n## iPhone.  \\nForged in titanium.\\n\\n![](/v/iphone-15-pro/c/images/overview/design/design_titanium_endframe__fepsvh2lh9u2_large.jpg)\\n![](/v/iphone-15-pro/c/images/overview/design/design_titanium_endframe__fepsvh2lh9u2_large.jpg)\\n![](/v/iphone-15-pro/c/images/overview/design/design_titanium_startframe__exbu28y2s6eu_large.jpg)\\n![](/v/iphone-15-pro/c/images/overview/design/design_titanium_startframe__exbu28y2s6eu_large.jpg)\\n\\n![A side view of iPhone 15 Pro showing the fine‑brushed finish on the titanium\\nbands](/v/iphone-15-pro/c/images/overview/design/dd_finish__mni8m5zuumye_large.jpg)\\n![A side view of iPhone 15 Pro showing the fine‑brushed finish on the titanium\\nbands](/v/iphone-15-pro/c/images/overview/design/dd_finish__mni8m5zuumye_large.jpg)\\n\\n![A close-up, front view of iPhone 15 Pro showing contoured edges and the thin\\nborders](/v/iphone-15-pro/c/images/overview/design/dd_comfort__zajzhgrzzqqq_large.jpg)\\n![A close-up, front view of iPhone 15 Pro showing contoured edges and the thin\\nborders](/v/iphone-15-pro/c/images/overview/design/dd_comfort__zajzhgrzzqqq_large.jpg)\\n\\nThe **beautiful, fine ‑brushed finish** on the titanium bands is achieved\\nthrough precision machining, sanding, brushing, and blasting.\\n\\nNew contoured edges and the thinnest borders ever on iPhone make it even\\n**more comfortable to hold** in your hand.\\n\\n![](/v/iphone-15-pro/c/images/overview/design/frame_endframe__cmrqk0dczkgi_large.jpg)\\n![](/v/iphone-15-pro/c/images/overview/design/frame_endframe__cmrqk0dczkgi_large.jpg)\\n![](/v/iphone-15-pro/c/images/overview/design/frame_startframe__dden8klh084m_large.jpg)\\n![](/v/iphone-15-pro/c/images/overview/design/frame_startframe__dden8klh084m_large.jpg)\\n\\nPause __ Play __ Replay __\\n\\nThe titanium band is bonded with a new internal aluminum frame through\\nsolid‑state diffusion. This is an industry‑first innovation, using a\\nthermomechanical process that **joins these two metals with incredible\\nstrength**.\\n\\nThe internal frame is also made from **100% recycled aluminum** , which\\ncontributes to our overall usage of recycled materials and helps us work\\ntoward our 2030 climate goals.\\n\\n![](/v/iphone-15-pro/c/images/overview/design/dd_icon_ceramic_shield__cm88agil4cdy_large.png)\\n![](/v/iphone-15-pro/c/images/overview/design/dd_icon_ceramic_shield__cm88agil4cdy_large.png)\\n\\n### Trifecta of tough.\\n\\nA strong titanium band.  \\nThe toughest back glass in a smartphone. And a Ceramic Shield front that’s\\neven **tougher than any smartphone glass**.\\n\\n![](/v/iphone-15-pro/c/images/overview/design/dd_icon_water__bwwr5a7z6vte_large.png)\\n![](/v/iphone-15-pro/c/images/overview/design/dd_icon_water__bwwr5a7z6vte_large.png)\\n\\n### Remarkably resistant.\\n\\niPhone is **splash, water, and dust resistant**.3 What a relief.\\n\\n* * *\\n\\n### A display of true intelligence.\\n\\niPhone 15 Pro has an **advanced Super Retina XDR display with ProMotion**. It\\nramps up refresh rates to 120Hz when you need exceptional graphics\\nperformance. And ramps down to save power when you don’t.\\n\\n![iPhone 15 Pro playing the Apple TV+ show, Foundation, showcasing the Super\\nRetina XDR\\ndisplay](/v/iphone-15-pro/c/images/overview/design/dd_display__cdvr96m3l1py_large.jpg)\\n![iPhone 15 Pro playing the Apple TV+ show, Foundation, showcasing the Super\\nRetina XDR\\ndisplay](/v/iphone-15-pro/c/images/overview/design/dd_display__cdvr96m3l1py_large.jpg)\\n\\n**Dynamic Island** bubbles up alerts and Live Activities — so you don’t miss\\nthem while you’re doing something else. You can easily track your next ride,\\nsports scores, flight status, and more.\\n\\nWith the **Always-On display** , your Lock Screen stays glanceable, so you\\ndon’t have to tap it to stay in the know. Using smart algorithms, iPhone\\ndetects when it’s in your pocket or face down and goes dark to save battery\\nlife.\\n\\n![iPhone 15 Pro with Dynamic Island showing live sports\\nscores](/v/iphone-15-pro/c/images/overview/design/dd_dynamic_island__jq125fshhoq6_large.jpg)\\n![iPhone 15 Pro with Dynamic Island showing live sports\\nscores](/v/iphone-15-pro/c/images/overview/design/dd_dynamic_island__jq125fshhoq6_large.jpg)\\n\\n![The Always-On display of iPhone 15 Pro showcasing a Lock Screen with a\\ncalendar widget, a weather widget, and an alarm\\nwidget](/v/iphone-15-pro/c/images/overview/design/dd_always_on__kf84vw8dv0qe_large.jpg)\\n![The Always-On display of iPhone 15 Pro showcasing a Lock Screen with a\\ncalendar widget, a weather widget, and an alarm\\nwidget](/v/iphone-15-pro/c/images/overview/design/dd_always_on__kf84vw8dv0qe_large.jpg)\\n\\n### StandBy for something special.\\n\\n![An iPhone 15 Pro in StandBy showing a full-screen clock along with the date,\\nthe temperature, and the next\\nalarm](/v/iphone-15-pro/c/images/overview/design/dd_standby__eqlh814zqmye_large.jpg)\\n![An iPhone 15 Pro in StandBy showing a full-screen clock along with the date,\\nthe temperature, and the next\\nalarm](/v/iphone-15-pro/c/images/overview/design/dd_standby__eqlh814zqmye_large.jpg)\\n\\nStandBy4 **turns your iPhone into a new, full-screen experience** with\\nglanceable information you can see from a distance. Just set it on its side\\nwhile charging to display the time, showcase your favorite photos, or keep an\\neye on your widgets. Thanks to the Always‑On display, it’s persistent. But at\\nnight, the screen dims so you can sleep easy.\\n\\n### A17 Pro chip.\\n\\n![The A17 Pro chip from iPhone 15\\nPro](/v/iphone-15-pro/c/images/overview/chip/chip__fuct924q1s66_large.jpg)\\n![The A17 Pro chip from iPhone 15\\nPro](/v/iphone-15-pro/c/images/overview/chip/chip__fuct924q1s66_large.jpg)\\n\\n#### A17 Pro chip.  \\nA monster win  \\nfor gaming.\\n\\nIt’s here. The biggest redesign in the history of Apple GPUs.\\n\\n![](/v/iphone-15-pro/c/images/overview/chip/chip_performance_hw__6ytcie74ao22_large.png)\\n![](/v/iphone-15-pro/c/images/overview/chip/chip_performance_hw__6ytcie74ao22_large.png)\\n\\n![](/v/iphone-15-pro/c/images/overview/chip/performance_endframe__ee48m49gny0y_large.jpg)\\n![](/v/iphone-15-pro/c/images/overview/chip/performance_endframe__ee48m49gny0y_large.jpg)\\n![](/v/iphone-15-pro/c/images/overview/chip/performance_startframe__d45w4qeu5fue_large.jpg)\\n![](/v/iphone-15-pro/c/images/overview/chip/performance_startframe__d45w4qeu5fue_large.jpg)\\n\\nHonkai: Star Rail\\n\\nA17 Pro is an entirely new class of iPhone chip that delivers our **best\\ngraphics performance by far**.\\n\\nMobile **games will look and feel so immersive** , with incredibly detailed\\nenvironments and more realistic characters. And with industry-leading speed\\nand efficiency, A17 Pro takes fast and runs with it.\\n\\nNew **Pro-class GPU** with 6 cores\\n\\nGo deeper on A17 Pro\\n\\n## A17 Pro chip.  \\nA monster win for gaming.\\n\\nA new, Pro‑class GPU enables games not  \\nseen before on any smartphone.\\n\\n![An image from a graphically intense video\\ngame](/v/iphone-15-pro/c/images/overview/chip/dd_gaming__gasuebmhf1iu_large.jpg)\\n![An image from a graphically intense video\\ngame](/v/iphone-15-pro/c/images/overview/chip/dd_gaming__gasuebmhf1iu_large.jpg)\\n\\niPhone 15 Pro uses hardware-accelerated ray tracing for the first time —\\nthat’s up to four times faster than software‑based ray tracing, delivering\\n**more fluid graphics and true ‑to‑life lighting**. It’s the fastest\\nray‑tracing performance in a smartphone.\\n\\nMetalFX Upscaling combines the performance of the GPU and the Neural Engine to\\nproduce **high ‑resolution graphics while using much less power**. So you can\\ngame on and on.\\n\\n* * *\\n\\n![A stylized, illustrated representation of the A17 Pro\\nchip](/v/iphone-15-pro/c/images/overview/chip/dd_chip__ws1yw02b99u2_large.jpg)\\n![A stylized, illustrated representation of the A17 Pro\\nchip](/v/iphone-15-pro/c/images/overview/chip/dd_chip__ws1yw02b99u2_large.jpg)\\n\\nUp to **20% faster  \\n  \\nGPU** now with 6 cores\\n\\nUp to **10% faster  \\n  \\nCPU** with 6 cores\\n\\nUp to **4x faster ray tracing** than A16 Bionic\\n\\nUp to **2x faster Neural  Engine** performs nearly 35 trillion operations per\\nsecond with 16 cores\\n\\n![](/v/iphone-15-pro/c/images/overview/shared/icon_iphone__egbbrgvy63sm_large.png)\\n![](/v/iphone-15-pro/c/images/overview/shared/icon_iphone__egbbrgvy63sm_large.png)\\n\\nA17 Pro GPU is up to 70% faster than the GPU in iPhone 12 Pro\\n\\n### Camera\\n\\n#### A camera that captures your wildest imagination.\\n\\nFrom dramatic framing flexibility to next-generation portraits, see what you\\ncan do with our most powerful iPhone camera system.\\n\\n![A detailed photo of a green iguana, captured with the 48MP Main camera on\\niPhone 15 Pro\\ncamera](/v/iphone-15-pro/c/images/overview/camera/camera__bo5k5tfk6cmu_large.jpg)\\n![A detailed photo of a green iguana, captured with the 48MP Main camera on\\niPhone 15 Pro\\ncamera](/v/iphone-15-pro/c/images/overview/camera/camera__bo5k5tfk6cmu_large.jpg)\\n\\nA green iguana, captured by the 48MP Main camera\\n\\nWith iPhone 15 Pro, you have multiple focal lengths to work with. It’s like\\nhaving **seven pro lenses in your pocket** , everywhere you go.\\n\\n  * ![](/v/iphone-15-pro/c/images/overview/camera/pro_lens1__brxt4ho5qkeu_large.jpg) ![](/v/iphone-15-pro/c/images/overview/camera/pro_lens1__brxt4ho5qkeu_large.jpg)\\n\\n  * ![](/v/iphone-15-pro/c/images/overview/camera/pro_lens2__e9qgfxdvjt26_large.jpg) ![](/v/iphone-15-pro/c/images/overview/camera/pro_lens2__e9qgfxdvjt26_large.jpg)\\n\\n  * ![](/v/iphone-15-pro/c/images/overview/camera/pro_lens3__cpk5raro1jrm_large.jpg) ![](/v/iphone-15-pro/c/images/overview/camera/pro_lens3__cpk5raro1jrm_large.jpg)\\n\\n  * ![](/v/iphone-15-pro/c/images/overview/camera/pro_lens4__fyau4puvrsyi_large.jpg) ![](/v/iphone-15-pro/c/images/overview/camera/pro_lens4__fyau4puvrsyi_large.jpg)\\n\\n  * ![](/v/iphone-15-pro/c/images/overview/camera/pro_lens5__d3r0chbwc1g2_large.jpg) ![](/v/iphone-15-pro/c/images/overview/camera/pro_lens5__d3r0chbwc1g2_large.jpg)\\n\\n  * ![](/v/iphone-15-pro/c/images/overview/camera/pro_lens6__d2gegbsia7o2_large.jpg) ![](/v/iphone-15-pro/c/images/overview/camera/pro_lens6__d2gegbsia7o2_large.jpg)\\n\\n  * ![](/v/iphone-15-pro/c/images/overview/camera/pro_lens7__e9lz0003b8qe_large.jpg) ![](/v/iphone-15-pro/c/images/overview/camera/pro_lens7__e9lz0003b8qe_large.jpg)\\n\\n**0.5x** Ultra Wide | Macro\\n\\n**0.5x** Ultra Wide | 13 mm\\n\\n**1x** Main | 24 mm\\n\\n**1x** Main | 28 mm\\n\\n**1x** Main | 35 mm\\n\\n**2x** Telephoto | 48 mm\\n\\n**New 5x** Telephoto | 120 mm\\n\\n  *   * \\n\\n![An iPhone 15 Pro showing a photo of a person being taken using 2x optical\\nzoom](/v/iphone-15-pro/c/images/overview/camera/48mp_camera__cxq25ak34nau_large.jpg)\\n![An iPhone 15 Pro showing a photo of a person being taken using 2x optical\\nzoom](/v/iphone-15-pro/c/images/overview/camera/48mp_camera__cxq25ak34nau_large.jpg)\\n\\nThe 48MP Main camera is more advanced than ever, capturing\\nsuper‑high‑resolution photos with a **new level of detail and color**.\\n\\nYou’ll see the improvements in your portraits. And now you no longer have to\\nswitch to Portrait mode. If your subject is a person, dog, or cat, iPhone\\nautomatically captures depth information. So you can choose to instantly **see\\nyour photo as a portrait** , with an artful blur effect. Or later in the\\nPhotos app.\\n\\n**Shoot magical spatial videos,  \\nthen relive them on Apple Vision Pro**\\n\\nZoom in on the cameras\\n\\n![A beautifully detailed photo shot on iPhone 15 Pro of a woman laying closely\\nto her reflection in rippled water on a black\\nbackground](/v/iphone-15-pro/c/images/overview/camera/dd_control__byfirct471ea_large.jpg)\\n![A beautifully detailed photo shot on iPhone 15 Pro of a woman laying closely\\nto her reflection in rippled water on a black\\nbackground](/v/iphone-15-pro/c/images/overview/camera/dd_control__byfirct471ea_large.jpg)\\n\\n## A camera that captures your wildest imagination.\\n\\n![A photo shot on iPhone 15 Pro of a person in a dark but very detailed\\nsetting, with ornate gold wallpaper and\\nfurnishings](/v/iphone-15-pro/c/images/overview/camera/dd_detail__cz3gle2gst4y_large.jpg)\\n![A photo shot on iPhone 15 Pro of a person in a dark but very detailed\\nsetting, with ornate gold wallpaper and\\nfurnishings](/v/iphone-15-pro/c/images/overview/camera/dd_detail__cz3gle2gst4y_large.jpg)\\n\\n### 48MP camera. Mega\\u200bpowerful.\\n\\nThe advanced quad‑pixel sensor makes the most of 48 megapixels by adapting to\\nwhat you’re shooting, so you get **low ‑light photos with phenomenal detail**.\\nIt also lets you scoot in closer with an additional 2x Telephoto.\\n\\nThe new Photonic Engine combines the best pixels from a super‑high‑resolution\\nimage with another that’s optimized for light capture. So **you automatically\\nget 24MP photos** — that’s twice the resolution than before — for everyday\\nshots with extra detail.\\n\\n![A very detailed black and white photo of a\\nperson](/v/iphone-15-pro/c/images/overview/camera/dd_landscape__ebuyf1v844ae_large.jpg)\\n![A very detailed black and white photo of a\\nperson](/v/iphone-15-pro/c/images/overview/camera/dd_landscape__ebuyf1v844ae_large.jpg)\\n\\nFor the moments when you want to prioritize detail, you have **more pro\\noptions to choose from**.\\n\\n**48MP HEIF gives you four times more resolution than before** , in a format\\nthat’s ready to share. Or shoot in 48MP ProRAW for precise control over color,\\ndetail, and dynamic range.\\n\\n### What’s your Main mm?\\n\\nNow you can choose your default Main camera lens — **24 mm, 28 mm, or 35 mm**\\n— all without having to carry around extra gear. That’s the power of\\ncomputational photography.\\n\\n![A photo shot in 24 mm of a woman in a green\\ndress](/v/iphone-15-pro/c/images/overview/camera/dd_24mm__f08wbhnvh62y_large.jpg)\\n![A photo shot in 24 mm of a woman in a green\\ndress](/v/iphone-15-pro/c/images/overview/camera/dd_24mm__f08wbhnvh62y_large.jpg)\\n\\n24 mm\\n\\n![A photo shot in 28 mm of a woman in a green\\ndress](/v/iphone-15-pro/c/images/overview/camera/dd_28mm__flocyshtyvqu_large.jpg)\\n![A photo shot in 28 mm of a woman in a green\\ndress](/v/iphone-15-pro/c/images/overview/camera/dd_28mm__flocyshtyvqu_large.jpg)\\n\\n28 mm\\n\\n![A photo shot in 35 mm of a woman in a green\\ndress](/v/iphone-15-pro/c/images/overview/camera/dd_35mm__pb96m1hzq7m2_large.jpg)\\n![A photo shot in 35 mm of a woman in a green\\ndress](/v/iphone-15-pro/c/images/overview/camera/dd_35mm__pb96m1hzq7m2_large.jpg)\\n\\n35 mm\\n\\n#### Next‑generation portraits.\\n\\n![iPhone 15 Pro showing a portrait of a woman being taken in a low- light\\nsetting with the adjustible focal point on her\\nface](/v/iphone-15-pro/c/images/overview/camera/dd_portrait__bmbfdxrp5cya_large.jpg)\\n![iPhone 15 Pro showing a portrait of a woman being taken in a low- light\\nsetting with the adjustible focal point on her\\nface](/v/iphone-15-pro/c/images/overview/camera/dd_portrait__bmbfdxrp5cya_large.jpg)\\n\\n**The Photonic Engine supercharges your portraits** , giving you beautiful\\ndetail, true-to-life color, zero shutter lag, and up to two times better low-\\nlight performance.\\n\\nNow **portraits can be Live  Photos, too**.\\n\\nIn Portrait mode, you can **use continuous zoom to move in nice and close**.\\n\\nAnd you can even **shift the focus between subjects after you take a shot**.\\n\\n![](/v/iphone-15-pro/c/images/overview/camera/shift_focus_endframe__1r5n01aq69e2_large.jpg)\\n![](/v/iphone-15-pro/c/images/overview/camera/shift_focus_endframe__1r5n01aq69e2_large.jpg)\\n![](/v/iphone-15-pro/c/images/overview/camera/shift_focus_startframe__015mdzxioyqm_large.jpg)\\n![](/v/iphone-15-pro/c/images/overview/camera/shift_focus_startframe__015mdzxioyqm_large.jpg)\\n\\nPause __ Play __ Replay __\\n\\n### Magic is made behind the camera, too.\\n\\n![A photo shot on iPhone 15 Pro showing how you can see a person more clearly\\nin a darker\\nscene](/v/iphone-15-pro/c/images/overview/camera/dd_night_mode__d19ryvs62h6q_large.jpg)\\n![A photo shot on iPhone 15 Pro showing how you can see a person more clearly\\nin a darker\\nscene](/v/iphone-15-pro/c/images/overview/camera/dd_night_mode__d19ryvs62h6q_large.jpg)\\n\\nIt’s not just portraits that benefit from the Photonic Engine. Night mode now\\nlets you **see your subjects more clearly in darker scenes** with increased\\ndynamic range.\\n\\n![A photo shot on iPhone 15 Pro showing a person with a bright colored sweater\\nand accurate skin\\ntone](/v/iphone-15-pro/c/images/overview/camera/dd_smart_hdr__e8x1w84toi6a_large.jpg)\\n![A photo shot on iPhone 15 Pro showing a person with a bright colored sweater\\nand accurate skin\\ntone](/v/iphone-15-pro/c/images/overview/camera/dd_smart_hdr__e8x1w84toi6a_large.jpg)\\n\\nWhen lighting is bright or uneven, the latest Smart HDR intelligently\\noptimizes for both your subject and the background — giving you photos with\\n**gorgeous color and more accurate skin tones**.\\n\\n![A selfie shot on iPhone 15 Pro using the TrueDepth\\ncamera](/v/iphone-15-pro/c/images/overview/camera/dd_selfies__f2rqio3dp8uy_large.jpg)\\n![A selfie shot on iPhone 15 Pro using the TrueDepth\\ncamera](/v/iphone-15-pro/c/images/overview/camera/dd_selfies__f2rqio3dp8uy_large.jpg)\\n\\nThe TrueDepth camera also uses the latest Smart HDR, Night mode, and portrait\\nenhancements. So **you’ll get your best selfies yet**.\\n\\n### Shift. Zoom. Steady.  \\n  \\nAnd, cut.\\n\\n![](/v/iphone-15-pro/c/images/overview/camera/dd_cinematic_mode_hw__ct87ppjhf56q_large.png)\\n![](/v/iphone-15-pro/c/images/overview/camera/dd_cinematic_mode_hw__ct87ppjhf56q_large.png)\\n\\n![](/v/iphone-15-pro/c/images/overview/camera/cinematic_mode_endframe__dz6y628q2mqa_large.jpg)\\n![](/v/iphone-15-pro/c/images/overview/camera/cinematic_mode_endframe__dz6y628q2mqa_large.jpg)\\n![](/v/iphone-15-pro/c/images/overview/camera/cinematic_mode_startframe__ecix2x6dzssy_large.jpg)\\n![](/v/iphone-15-pro/c/images/overview/camera/cinematic_mode_startframe__ecix2x6dzssy_large.jpg)\\n\\nPause __ Play __ Replay __\\n\\nCinematic mode **automatically shifts the focus** to the most important\\nsubject in a scene. And now you can master compelling close‑ups with the new\\n2x optical‑quality zoom. Bravo.\\n\\nUse Action mode to **steady a really shaky handheld shot**.\\n\\n### Pro video.  \\nNow with more Pro.\\n\\n![A photo of someone using an iPhone on a tripod to record a colorful video of\\na\\nwoman](/v/iphone-15-pro/c/images/overview/camera/dd_action_mode__d29roksjyn6u_large.jpg)\\n![A photo of someone using an iPhone on a tripod to record a colorful video of\\na\\nwoman](/v/iphone-15-pro/c/images/overview/camera/dd_action_mode__d29roksjyn6u_large.jpg)\\n\\nNew **Log encoding makes ProRes even more powerful** , enabling more range and\\nflexibility for visual effects and color grading in post.\\n\\niPhone 15 Pro is **the first smartphone to support ACES** — Academy Color\\nEncoding System — a global color standard for major movie productions. Do your\\nthing, directors.\\n\\nHighest‑quality video in a smartphone\\n\\n### Spatial video capture comes to iPhone.\\n\\nTake spatial videos on iPhone 15 Pro and relive them on Apple Vision Pro.5\\n\\n![](/v/iphone-15-pro/c/images/overview/camera/spatial_video_endframe__fimgf8m6d0eq_large.jpg)\\n![](/v/iphone-15-pro/c/images/overview/camera/spatial_video_endframe__fimgf8m6d0eq_large.jpg)\\n![](/v/iphone-15-pro/c/images/overview/camera/spatial_video_startframe__czitlumo0fue_large.jpg)\\n![](/v/iphone-15-pro/c/images/overview/camera/spatial_video_startframe__czitlumo0fue_large.jpg)\\n\\nPause __ Play __ Replay __\\n\\n**Make memories come alive with spatial videos.** iPhone 15 Pro can shoot 3D\\nvideos using the advanced Ultra Wide and Main cameras, so you can relive your\\nfavorite moments on Apple Vision Pro.\\n\\n[How to record spatial videos](https://support.apple.com/guide/iphone/record-\\nspatial-videos-for-apple-vision-pro-iph6e3a6d4fe/ios)\\n\\n![A photo of a person wearing Apple Vision\\nPro](/v/iphone-15-pro/c/images/overview/camera/dd_vision_pro__e3uakz6uhimq_large.jpg)\\n![A photo of a person wearing Apple Vision\\nPro](/v/iphone-15-pro/c/images/overview/camera/dd_vision_pro__e3uakz6uhimq_large.jpg)\\n\\n### 5x Telephoto Zoom\\n\\n#### 120 mm of  \\npure Pro zoom.\\n\\n![](/v/iphone-15-pro/c/images/overview/5x-zoom/pro-\\nzoom_endframe__bpmc72f8qwgi_large.jpg)\\n![](/v/iphone-15-pro/c/images/overview/5x-zoom/pro-\\nzoom_endframe__bpmc72f8qwgi_large.jpg)\\n![](/v/iphone-15-pro/c/images/overview/5x-zoom/pro-\\nzoom_endframe__bpmc72f8qwgi_large.jpg)\\n![](/v/iphone-15-pro/c/images/overview/5x-zoom/pro-\\nzoom_endframe__bpmc72f8qwgi_large.jpg)\\n![](/v/iphone-15-pro/c/images/overview/5x-zoom/pro-\\nzoom_startframe__f3jyju04psmu_large.jpg)\\n![](/v/iphone-15-pro/c/images/overview/5x-zoom/pro-\\nzoom_startframe__f3jyju04psmu_large.jpg)\\n\\nPause __ Play __ Replay __\\n\\nFor iPhone 15 Pro Max, we designed a 5x Telephoto camera with **the longest\\noptical zoom of any iPhone ever** to fit in our compact Pro camera system.\\n\\nNow you can **take sharper close ‑ups from farther away** — like a phenomenal\\nphoto of your friend or a goal in your kid’s soccer match.\\n\\n**5x optical zoom** with the 120 mm lens\\n\\nNerd out on 5x Telephoto\\n\\n##\\n\\n### 120 mm of  \\npure Pro zoom.\\n\\n![A very detailed, zoomed in shot of a swimmer in a pool with water splashing\\naround\\nhim](/v/iphone-15-pro/c/images/overview/5x-zoom/dd_zoom__bfkg7pktm6mq_large.jpg)\\n![A very detailed, zoomed in shot of a swimmer in a pool with water splashing\\naround\\nhim](/v/iphone-15-pro/c/images/overview/5x-zoom/dd_zoom__bfkg7pktm6mq_large.jpg)\\n\\n### Tetraprism.  \\nEven cooler than it sounds.\\n\\n![](/v/iphone-15-pro/c/images/overview/5x-zoom/tetraprism_endframe__bql203gv88nm_large.jpg)\\n![](/v/iphone-15-pro/c/images/overview/5x-zoom/tetraprism_endframe__bql203gv88nm_large.jpg)\\n![](/v/iphone-15-pro/c/images/overview/5x-zoom/tetraprism_startframe__zft91t8ysn62_large.jpg)\\n![](/v/iphone-15-pro/c/images/overview/5x-zoom/tetraprism_startframe__zft91t8ysn62_large.jpg)\\n\\nPause __ Play __ Replay __\\n\\nWe created a state‑of‑the‑art tetraprism design — a folded glass structure\\nbelow the lens — to **reflect light rays four times over**. This allows light\\nto travel for longer in the same space, giving you a new focal length that\\nreally goes the distance.\\n\\nTo support the tetraprism design, we pioneered a 3D sensor‑shift optical image\\nstabilization and autofocus module that moves in all three directions. **Our\\nmost advanced stabilization system ever** delivers twice as many\\nmicroadjustments as before.\\n\\nUp to **10,000 microadjustments** per second\\n\\n![](/v/iphone-15-pro/c/images/overview/5x-zoom/dd_overlay__fph7leqx5ryy_large.jpg)\\n![](/v/iphone-15-pro/c/images/overview/5x-zoom/dd_overlay__fph7leqx5ryy_large.jpg)\\n\\n### Let your overlay be your guide.\\n\\nUsing intelligent image stabilization, our new guide **helps you line up super\\n‑zoomed‑in shots**. It will come in handy now that you have up to 25x digital\\nzoom to play with.\\n\\n![](/v/iphone-15-pro/c/images/overview/shared/icon_iphone__egbbrgvy63sm_large.png)\\n![](/v/iphone-15-pro/c/images/overview/shared/icon_iphone__egbbrgvy63sm_large.png)\\n\\nTwice the zoom range of iPhone 12 Pro Max\\n\\n![A super zoomed in shot of a man, framed by the new overlay\\nguide](/v/iphone-15-pro/c/images/overview/5x-zoom/dd_overlay_zoom__c5pf5j9na52e_large.jpg)\\n![A super zoomed in shot of a man, framed by the new overlay\\nguide](/v/iphone-15-pro/c/images/overview/5x-zoom/dd_overlay_zoom__c5pf5j9na52e_large.jpg)\\n\\n![](/v/iphone-15-pro/c/images/overview/shared/icon_iphone__egbbrgvy63sm_large.png)\\n![](/v/iphone-15-pro/c/images/overview/shared/icon_iphone__egbbrgvy63sm_large.png)\\n\\nTwice the zoom range of iPhone 12 Pro Max\\n\\n### Action Button\\n\\n#### Get in on the Action button.\\n\\nThe all‑new Action button is **a fast track to your favorite feature**. Once\\nyou set the one you want, just press and hold to launch the action.\\n\\n  * _ ![](/v/iphone-15-pro/c/images/overview/action-button/icon_ring_silent__csgbrm4hox26_large.png) ![](/v/iphone-15-pro/c/images/overview/action-button/icon_ring_silent__csgbrm4hox26_large.png) _Silent mode\\n  * _ ![](/v/iphone-15-pro/c/images/overview/action-button/icon_focus__buak59cclvci_large.png) ![](/v/iphone-15-pro/c/images/overview/action-button/icon_focus__buak59cclvci_large.png) _Focus\\n  * _ ![](/v/iphone-15-pro/c/images/overview/action-button/icon_camera__glag5kq7od2e_large.png) ![](/v/iphone-15-pro/c/images/overview/action-button/icon_camera__glag5kq7od2e_large.png) _Camera\\n  * _ ![](/v/iphone-15-pro/c/images/overview/action-button/icon_flashlight__tfjf8mzdxn2q_large.png) ![](/v/iphone-15-pro/c/images/overview/action-button/icon_flashlight__tfjf8mzdxn2q_large.png) _Flashlight\\n  * _ ![](/v/iphone-15-pro/c/images/overview/action-button/icon_voice_memos__b3dc0kpz5a6a_large.png) ![](/v/iphone-15-pro/c/images/overview/action-button/icon_voice_memos__b3dc0kpz5a6a_large.png) _Voice Memo\\n  * _ ![](/v/iphone-15-pro/c/images/overview/action-button/icon_translate__9g29o6qugiqi_large.png) ![](/v/iphone-15-pro/c/images/overview/action-button/icon_translate__9g29o6qugiqi_large.png) _Translate\\n  * _ ![](/v/iphone-15-pro/c/images/overview/action-button/icon_magnifier__d1z2sp31f2ky_large.png) ![](/v/iphone-15-pro/c/images/overview/action-button/icon_magnifier__d1z2sp31f2ky_large.png) _Magnifier\\n  * _ ![](/v/iphone-15-pro/c/images/overview/action-button/icon_shortcuts__fagha7np6ea2_large.png) ![](/v/iphone-15-pro/c/images/overview/action-button/icon_shortcuts__fagha7np6ea2_large.png) _Shortcut\\n  * _ ![](/v/iphone-15-pro/c/images/overview/action-button/icon_accessibility__b50u9thvbff6_large.png) ![](/v/iphone-15-pro/c/images/overview/action-button/icon_accessibility__b50u9thvbff6_large.png) _Accessibility\\n\\n![Silent mode shown as an option for the Action\\nbutton](/v/iphone-15-pro/c/images/overview/action-\\nbutton/screen_ring_silent__ev7x8thm2oia_large.jpg) ![Silent mode shown as an\\noption for the Action button](/v/iphone-15-pro/c/images/overview/action-\\nbutton/screen_ring_silent__ev7x8thm2oia_large.jpg)\\n\\n![Focus shown as an option for the Action\\nbutton](/v/iphone-15-pro/c/images/overview/action-\\nbutton/screen_focus__c4ecc85bgq0y_large.jpg) ![Focus shown as an option for\\nthe Action button](/v/iphone-15-pro/c/images/overview/action-\\nbutton/screen_focus__c4ecc85bgq0y_large.jpg)\\n\\n![Camera shown as an option for the Action\\nbutton](/v/iphone-15-pro/c/images/overview/action-\\nbutton/screen_camera__ct3tazv4214y_large.jpg) ![Camera shown as an option for\\nthe Action button](/v/iphone-15-pro/c/images/overview/action-\\nbutton/screen_camera__ct3tazv4214y_large.jpg)\\n\\n![Flashlight shown as an option for the Action\\nbutton](/v/iphone-15-pro/c/images/overview/action-\\nbutton/screen_flashlight__dl3mnjo6m2c2_large.jpg) ![Flashlight shown as an\\noption for the Action button](/v/iphone-15-pro/c/images/overview/action-\\nbutton/screen_flashlight__dl3mnjo6m2c2_large.jpg)\\n\\n![Voice Memo shown as an option for the Action\\nbutton](/v/iphone-15-pro/c/images/overview/action-\\nbutton/screen_voice_memos__digw51ipw0eq_large.jpg) ![Voice Memo shown as an\\noption for the Action button](/v/iphone-15-pro/c/images/overview/action-\\nbutton/screen_voice_memos__digw51ipw0eq_large.jpg)\\n\\n![Translate shown as an option for the Action\\nbutton](/v/iphone-15-pro/c/images/overview/action-\\nbutton/screen_translate__d2ri25rgbbma_large.jpg) ![Translate shown as an\\noption for the Action button](/v/iphone-15-pro/c/images/overview/action-\\nbutton/screen_translate__d2ri25rgbbma_large.jpg)\\n\\n![Magnifier shown as an option for the Action\\nbutton](/v/iphone-15-pro/c/images/overview/action-\\nbutton/screen_magnifier__fqt2f9mozi62_large.jpg) ![Magnifier shown as an\\noption for the Action button](/v/iphone-15-pro/c/images/overview/action-\\nbutton/screen_magnifier__fqt2f9mozi62_large.jpg)\\n\\n![Shortcut shown as an option for the Action\\nbutton](/v/iphone-15-pro/c/images/overview/action-\\nbutton/screen_shortcuts__cwulwrmvqbu6_large.jpg) ![Shortcut shown as an option\\nfor the Action button](/v/iphone-15-pro/c/images/overview/action-\\nbutton/screen_shortcuts__cwulwrmvqbu6_large.jpg)\\n\\n![Accessibility shown as an option for the Action\\nbutton](/v/iphone-15-pro/c/images/overview/action-\\nbutton/screen_accessibility__ed5ledv74t2e_large.jpg) ![Accessibility shown as\\nan option for the Action button](/v/iphone-15-pro/c/images/overview/action-\\nbutton/screen_accessibility__ed5ledv74t2e_large.jpg)\\n\\n![](/v/iphone-15-pro/c/images/overview/action-\\nbutton/hw__cqhc5pponrhy_large.png)\\n![](/v/iphone-15-pro/c/images/overview/action-\\nbutton/hw__cqhc5pponrhy_large.png)\\n\\n![](/v/iphone-15-pro/c/images/overview/action-\\nbutton/action_button_startframe__bskb535836dy_large.jpg)\\n![](/v/iphone-15-pro/c/images/overview/action-\\nbutton/action_button_startframe__bskb535836dy_large.jpg)\\n\\n![](/v/iphone-15-pro/c/images/overview/action-\\nbutton/gradient__bjatv8drclo2_large.png)\\n![](/v/iphone-15-pro/c/images/overview/action-\\nbutton/gradient__bjatv8drclo2_large.png)\\n\\nBy default, the **Action button is set to toggle between Ring and Silent\\nmodes**. If you choose a different action, you can use Control Center to mute\\nor use Focus filters to automatically set your iPhone to silent.\\n\\nWhatever you’re doing, the Action button is at the ready. Launch Camera to\\ncatch a spontaneous selfie. Record an instant voice memo. You can even\\n**select Shortcut to open an app or run a series of tasks** like switching on\\nthe lights in your living room and playing music.\\n\\n### Connectivity\\n\\n#### Gigablast  \\nyour gigabits.\\n\\n![iPhone 15 Pro Max connected to MacBook Pro 14-inch with\\nUSB-C](/v/iphone-15-pro/c/images/overview/usb-c/usbc__dqdn0phay4mu_large.jpg)\\n![iPhone 15 Pro Max connected to MacBook Pro 14-inch with\\nUSB-C](/v/iphone-15-pro/c/images/overview/usb-c/usbc__dqdn0phay4mu_large.jpg)\\n\\niPhone 15 Pro is the first iPhone to support USB 3,6 for a **huge leap in data\\ntransfer speeds** and faster pro workflows than ever before.\\n\\nThe new USB‑C connector lets you **charge your Mac or iPad with the same cable\\nyou use to charge iPhone 15 Pro**. Bye‑bye, cable clutter.\\n\\nUp to **20x faster** file transfers\\n\\nAnd with all‑new Wi‑Fi 6E7 you\\'ll get **two times faster wireless speeds**. So\\nyou can upload, download, and transfer files in a flash.\\n\\nExplore connectivity\\n\\n## Gigablast  \\nyour gigabits.\\n\\n![iPhone 15 Pro transferring files to an external drive using\\nUSB-C](/v/iphone-15-pro/c/images/overview/usb-c/dd_usbc__buw2grm9vmfm_large.jpg)\\n![iPhone 15 Pro transferring files to an external drive using\\nUSB-C](/v/iphone-15-pro/c/images/overview/usb-c/dd_usbc__buw2grm9vmfm_large.jpg)\\n\\n![](/v/iphone-15-pro/c/images/overview/usb-c/dd_icon_usbc__bgbzz5yerek2_large.png)\\n![](/v/iphone-15-pro/c/images/overview/usb-c/dd_icon_usbc__bgbzz5yerek2_large.png)\\n\\nUSB‑C with USB 36 gives you up to 10Gb/s, so you can **transfer your masterful\\nProRes videos, just like that**.\\n\\n* * *\\n\\n### USB‑Convenient.\\n\\nNow you can **connect USB ‑C gear** like thumb drives, fast external storage,\\n4K displays, and microphones. And you can charge Apple Watch or AirPods from\\nyour iPhone.8\\n\\n**Charge up to 50% in around 30 minutes9** with the 20W USB‑C Power Adapter\\n(sold separately).\\n\\n![iPhone 15 Pro with a USB-C cord plugged into it surrounded by a Macbook Pro,\\nan AirPods Pro, and an\\niPad](/v/iphone-15-pro/c/images/overview/usb-c/dd_convenient__b6r2u43qm1g2_large.jpg)\\n![iPhone 15 Pro with a USB-C cord plugged into it surrounded by a Macbook Pro,\\nan AirPods Pro, and an\\niPad](/v/iphone-15-pro/c/images/overview/usb-c/dd_convenient__b6r2u43qm1g2_large.jpg)\\n\\n### Swap drives.  \\nKeep filming.  \\nAnd carry on.\\n\\n![](/v/iphone-15-pro/c/images/overview/usb-c/dd_external_storage_hw__bo5twb3ll1py_large.png)\\n![](/v/iphone-15-pro/c/images/overview/usb-c/dd_external_storage_hw__bo5twb3ll1py_large.png)\\n\\n![](/v/iphone-15-pro/c/images/overview/usb-c/external_storage_endframe__detb6mmf73e6_large.jpg)\\n![](/v/iphone-15-pro/c/images/overview/usb-c/external_storage_endframe__detb6mmf73e6_large.jpg)\\n![](/v/iphone-15-pro/c/images/overview/usb-c/external_storage_startframe__gmas2khhe466_large.jpg)\\n![](/v/iphone-15-pro/c/images/overview/usb-c/external_storage_startframe__gmas2khhe466_large.jpg)\\n\\nPause __ Play __ Replay __\\n\\niPhone 15 Pro lets you shoot ProRes video directly to external storage, so you\\ncan quickly switch drives and **keep your iPhone camera rolling on set**. Want\\nto capture slow motion Hollywood style? Now you can record ProRes 4K at 60 fps\\nto an external SSD.\\n\\n* * *\\n\\n### Ah, there you are.\\n\\nWant to find a friend in a crowded train station or busy park? Look no further\\nthan **Precision  Finding** for FindMy friends. It’s powered by the\\nsecond‑generation Ultra Wideband chip,10 now with three times greater range,\\nso it can lead you right to them.\\n\\nTo enable Precision Finding, friends with iPhone 15 or iPhone 15 Pro can share\\ntheir location only with you using Find My. **It’s simple — and private.**\\n\\n![](/v/iphone-15-pro/c/images/overview/usb-c/dd_precision_finding__f025egnw6mqa_large.jpg)\\n![](/v/iphone-15-pro/c/images/overview/usb-c/dd_precision_finding__f025egnw6mqa_large.jpg)\\n\\n![](/v/iphone-15-pro/c/images/overview/usb-c/dd_findmy__ekwqy6ppm7e6_large.jpg)\\n![](/v/iphone-15-pro/c/images/overview/usb-c/dd_findmy__ekwqy6ppm7e6_large.jpg)\\n\\n### The ultimate connections.\\n\\n![](/v/iphone-15-pro/c/images/overview/usb-c/dd_icon_6e__e47m43bsdxkm_large.png)\\n![](/v/iphone-15-pro/c/images/overview/usb-c/dd_icon_6e__e47m43bsdxkm_large.png)\\n\\n**Wi ‑Fi 6E7** gives you the fastest Wi‑Fi on iPhone — a speed boost that\\nmakes a big difference.\\n\\n![](/v/iphone-15-pro/c/images/overview/usb-c/dd_icon_esim__emnte07k5zau_large.png)\\n![](/v/iphone-15-pro/c/images/overview/usb-c/dd_icon_esim__emnte07k5zau_large.png)\\n\\n**eSIM** simplifies traveling. Just activate an eSIM for the country you’re\\nvisiting before you go. Or when you arrive.11\\n\\n[More on eSIM](https://support.apple.com/en-us/HT212780) [More on traveling\\nwith eSIM](https://support.apple.com/kb/HT213448)\\n\\n![](/v/iphone-15-pro/c/images/overview/usb-c/dd_icon_5g__eeomypkm7w02_large.png)\\n![](/v/iphone-15-pro/c/images/overview/usb-c/dd_icon_5g__eeomypkm7w02_large.png)\\n\\n**5G** provides a superfast experience so you can make high‑quality FaceTime\\ncalls, quickly download files, and play real‑time multiplayer games on the\\ngo.12\\n\\n![](/v/iphone-15-pro/c/images/overview/usb-c/dd_icon_radio__diho1zlx73gy_large.png)\\n![](/v/iphone-15-pro/c/images/overview/usb-c/dd_icon_radio__diho1zlx73gy_large.png)\\n\\niPhone 15 Pro is the **first smartphone with Thread radio** , which will allow\\nyou to directly control your Thread‑enabled smart home devices.\\n\\n### Battery\\n\\n#### Battery life that’s positively Pro.\\n\\nEven with so many advanced new features, iPhone 15 Pro still gives you amazing\\nall‑day battery life.\\n\\n![](/v/iphone-15-pro/c/images/overview/chip/chip_performance_hw__6ytcie74ao22_large.png)\\n![](/v/iphone-15-pro/c/images/overview/chip/chip_performance_hw__6ytcie74ao22_large.png)\\n\\n![](/v/iphone-15-pro/c/images/overview/battery/battery_endframe__eueylbopml4y_large.jpg)\\n![](/v/iphone-15-pro/c/images/overview/battery/battery_endframe__eueylbopml4y_large.jpg)\\n![](/v/iphone-15-pro/c/images/overview/battery/battery_startframe__fbh0m3kui02u_large.jpg)\\n![](/v/iphone-15-pro/c/images/overview/battery/battery_startframe__fbh0m3kui02u_large.jpg)\\n\\nUp to **29  hrs** video playback on iPhone 15 Pro Max13\\n\\nUp to **23  hrs** video playback on iPhone 15 Pro13\\n\\nAdd a MagSafe Charger for **fast, efficient wireless charging**14\\n\\n![](/v/iphone-15-pro/c/images/overview/shared/icon_iphone__egbbrgvy63sm_large.png)\\n![](/v/iphone-15-pro/c/images/overview/shared/icon_iphone__egbbrgvy63sm_large.png)\\n\\niPhone 15 Pro Max has up to 9 more hours video playback than iPhone 12 Pro Max\\n\\n![](/v/iphone-15-pro/c/images/overview/shared/icon_iphone__egbbrgvy63sm_large.png)\\n![](/v/iphone-15-pro/c/images/overview/shared/icon_iphone__egbbrgvy63sm_large.png)\\n\\niPhone 15 Pro has up to 6 more hours video playback than iPhone 12 Pro\\n\\n### Safety\\n\\n#### In an emergency,  \\niPhone has your back.\\n\\nNew **Roadside Assistance via satellite15** can get you help for things like a\\nflat tire or a dead battery, even when you’re off the grid.\\n\\niPhone also has **Emergency SOS via satellite15 and Crash Detection16**, two\\nvital safety features that have helped save lives.\\n\\nLearn how it all works\\n\\n## In an emergency,  \\niPhone has your back.\\n\\n### Introducing Roadside  \\nAssistance via satellite.\\n\\nIf your car breaks down and you’re off the beaten path without cell service or\\nWi‑Fi, you can still **use iPhone to get help**.15\\n\\nFirst, start a new text to Roadside Assistance and follow the easy onscreen\\nsteps to **see how to connect — and stay connected — to a satellite**. Then\\ntap to answer a few key questions, like what model of car you have and what\\nkind of help you need.\\n\\nOnce you reply, you’ll be connected with a AAA roadside assistance provider,\\nwho can send someone with the right equipment to help get you moving again.\\nDon’t have a membership? No worries. **It all works, even if you’re not a\\nmember.17**\\n\\n**Roadside Assistance via satellite** is included for free for two years with\\niPhone 15 Pro\\n\\n![Roadside Assistance asking \"What do you need assistance with?\" with on-\\nscreen options Locked Out, No Fuel or Charge, Flat Tire, Vehicle Does Not\\nStart, Vehicle Stuck, and Other\\nIssue](/v/iphone-15-pro/c/images/overview/safety/dd_assistance__fdndc9ko0paq_large.jpg)\\n![Roadside Assistance asking \"What do you need assistance with?\" with on-\\nscreen options Locked Out, No Fuel or Charge, Flat Tire, Vehicle Does Not\\nStart, Vehicle Stuck, and Other\\nIssue](/v/iphone-15-pro/c/images/overview/safety/dd_assistance__fdndc9ko0paq_large.jpg)\\n\\n* * *\\n\\n### Emergency SOS  \\nvia satellite.\\n\\nIf you’ve tried calling 911 but don’t have cell service or Wi‑Fi, you can use\\niPhone to **text emergency services over satellite**.15\\n\\nTo save time, **iPhone front-loads important questions to assess your\\nsituation**. Just tap to respond. Then iPhone will show you where to point\\nyour phone to stay connected and avoid obstructions like mountains.\\n\\nRemember, **it can take from 15 seconds** to more than a minute to get through\\ndepending on conditions.\\n\\n![An iPhone showing the message \"No Connection Try Emergency Text via\\nSatellite\"](/v/iphone-15-pro/c/images/overview/safety/dd_esos__fsoervnjntui_large.jpg)\\n![An iPhone showing the message \"No Connection Try Emergency Text via\\nSatellite\"](/v/iphone-15-pro/c/images/overview/safety/dd_esos__fsoervnjntui_large.jpg)\\n\\n* * *\\n\\n### Crash  \\n  \\nDetection.\\n\\n**iPhone can detect a severe car crash** and call for help if you can’t.16\\n\\n**Hardware sensors and advanced motion algorithms identify signs of a crash**\\n, like sudden shifts in speed and direction, or changes in cabin pressure\\ncaused by deploying airbags.\\n\\nThen **iPhone can call 911** and notify your emergency contacts. Precision\\ndual‑frequency GPS helps relay your location accurately.\\n\\n**Over 1 million hours of real ‑world driving and crash data helps iPhone\\nrecognize accidents**\\n\\n![The Crash Detection screen saying \"It looks like you\\'ve been in a crash.\\niPhone will trigger Emergency SOS if you don\\'t\\nrespond\"](/v/iphone-15-pro/c/images/overview/safety/dd_crash_detection__fdd03qfep6qa_large.jpg)\\n![The Crash Detection screen saying \"It looks like you\\'ve been in a crash.\\niPhone will trigger Emergency SOS if you don\\'t\\nrespond\"](/v/iphone-15-pro/c/images/overview/safety/dd_crash_detection__fdd03qfep6qa_large.jpg)\\n\\n### Values\\n\\n![](/v/iphone-15-pro/c/images/overview/values/values__ctvouxsekyuu_large.jpg)\\n![](/v/iphone-15-pro/c/images/overview/values/values__ctvouxsekyuu_large.jpg)\\n\\n#### Designed to  \\nmake a difference.\\n\\n**What matters to you matters to Apple, too.** From privacy protections that\\ngive you more control over your data. To using more recycled materials that\\nminimize environmental impact. To creating built‑in features that make iPhone\\naccessible to all.\\n\\nThe internal structural frame of iPhone 15 Pro has **100% recycled aluminum**\\n\\nWhat iPhone stands for\\n\\n#### Designed to  \\nmake  \\n  \\na  \\ndifference.\\n\\n![](/v/iphone-15-pro/c/images/overview/values/dd_icon_privacy__decjxflx38gi_large.png)\\n![](/v/iphone-15-pro/c/images/overview/values/dd_icon_privacy__decjxflx38gi_large.png)\\n\\n## Privacy. That’s iPhone.\\n\\n![](/v/iphone-15-pro/c/images/overview/values/dd_icon_health__b0ypziqsrf2a_large.png)\\n![](/v/iphone-15-pro/c/images/overview/values/dd_icon_health__b0ypziqsrf2a_large.png)\\n\\n**The Health app** makes it easy for you to access your health and fitness\\ninformation — and securely share access with apps, relatives, and doctors.\\n\\n![](/v/iphone-15-pro/c/images/overview/values/dd_icon_passkey__ee2gejh5voeq_large.png)\\n![](/v/iphone-15-pro/c/images/overview/values/dd_icon_passkey__ee2gejh5voeq_large.png)\\n\\n**Passkeys** eliminate the need for passwords on apps and websites by using\\nunique digital keys. Just use Touch ID or Face ID to authenticate. Simple and\\nsecure.\\n\\n![](/v/iphone-15-pro/c/images/overview/values/dd_icon_safari__cnhp51nichiu_large.png)\\n![](/v/iphone-15-pro/c/images/overview/values/dd_icon_safari__cnhp51nichiu_large.png)\\n\\n**Safari Enhanced Private Browsing** locks browsing windows when they’re not\\nbeing used, blocks known trackers from loading, and removes tracking URLs.\\n\\n[More on Apple and Privacy](/privacy/)\\n\\n![](/v/iphone-15-pro/c/images/overview/values/dd_icon_recycle__59uho7orbwi2_large.png)\\n![](/v/iphone-15-pro/c/images/overview/values/dd_icon_recycle__59uho7orbwi2_large.png)\\n\\n### Big steps  \\ntoward a smaller  \\nfootprint.\\n\\niPhone 15 Pro contains **more recycled materials than ever** :\\n\\n![](/v/iphone-15-pro/c/images/overview/values/dd_icon_checkmark__esy2nqxzes8y_large.png)\\n![](/v/iphone-15-pro/c/images/overview/values/dd_icon_checkmark__esy2nqxzes8y_large.png)\\n\\n100 percent recycled cobalt in the battery18\\n\\n![](/v/iphone-15-pro/c/images/overview/values/dd_icon_checkmark__esy2nqxzes8y_large.png)\\n![](/v/iphone-15-pro/c/images/overview/values/dd_icon_checkmark__esy2nqxzes8y_large.png)\\n\\n100 percent recycled gold in the USB‑C connector\\n\\n![](/v/iphone-15-pro/c/images/overview/values/dd_icon_checkmark__esy2nqxzes8y_large.png)\\n![](/v/iphone-15-pro/c/images/overview/values/dd_icon_checkmark__esy2nqxzes8y_large.png)\\n\\n100 percent recycled copper foil in the MagSafe inductive charger\\n\\nNow 99 percent of iPhone packaging is fiber based,19 with **100 percent\\nrecycled or responsibly sourced wood fibers**.20 And there’s still no plastic\\nwrap around the box.\\n\\nOur stores, offices, and data centers are already **carbon neutral**. By 2030,\\nour products — and your carbon footprint from using them — will be, too.\\n\\n[More on Apple and the Environment](/environment/)\\n\\n![](/v/iphone-15-pro/c/images/overview/values/dd_icon_accessibility__k6iwxt3fvmym_large.png)\\n![](/v/iphone-15-pro/c/images/overview/values/dd_icon_accessibility__k6iwxt3fvmym_large.png)\\n\\n### iPhone for all.\\n\\n![](/v/iphone-15-pro/c/images/overview/values/dd_icon_voice__6cirvmezl9u2_large.png)\\n![](/v/iphone-15-pro/c/images/overview/values/dd_icon_voice__6cirvmezl9u2_large.png)\\n\\nIf you’re at risk of losing your ability to speak, **Personal Voice** lets you\\ncreate a voice that sounds like you, so you can communicate with it using Live\\nSpeech for calls and conversations.\\n\\n![](/v/iphone-15-pro/c/images/overview/values/dd_icon_speak__gmm1v7omxjqu_large.png)\\n![](/v/iphone-15-pro/c/images/overview/values/dd_icon_speak__gmm1v7omxjqu_large.png)\\n\\nMagnifier helps users with vision disabilities learn about their surroundings.\\nFor example, **Point and Speak21** in Magnifier reads each label you point\\ntoward to help you interact with objects like electrical appliances.\\n\\n![](/v/iphone-15-pro/c/images/overview/values/dd_icon_voiceover__bae88lq9pv6a_large.png)\\n![](/v/iphone-15-pro/c/images/overview/values/dd_icon_voiceover__bae88lq9pv6a_large.png)\\n\\n**VoiceOver** is a screen reader that tells people who are blind or have low\\nvision exactly what’s happening on iPhone. It can describe friends, objects,\\ntext, photos, and even graphs in great detail.\\n\\nPro tip: you can get to your favorite accessibility feature faster if you\\nassign it to the Action button\\n\\n[More on built-in Accessibility features](/accessibility/)\\n\\n### iOS 17.\\n\\n#### Style it out. Swap it over. Sticker it up.\\n\\n![Screens from iOS 17 features being shown including Contact Poster, NameDrop,\\nand Live\\nStickers](/v/iphone-15-pro/c/images/overview/ios-17/ios17__cntyeyuhlbki_large.jpg)\\n![Screens from iOS 17 features being shown including Contact Poster, NameDrop,\\nand Live\\nStickers](/v/iphone-15-pro/c/images/overview/ios-17/ios17__cntyeyuhlbki_large.jpg)\\n\\n![](/v/iphone-15-pro/c/images/overview/ios-17/ios17_contact_poster__f2hu76e1efiq_large.jpg)\\n![](/v/iphone-15-pro/c/images/overview/ios-17/ios17_contact_poster__f2hu76e1efiq_large.jpg)\\n\\n**Contact Poster.** Create your own poster that contacts will see when you\\ncall. Pick a favorite pic or Memoji, pair it with a favorite font, and there\\nyou have it — your very own calling card.\\n\\n![](/v/iphone-15-pro/c/images/overview/ios-17/ios17_namedrop__cu0pp9gg0igm_large.jpg)\\n![](/v/iphone-15-pro/c/images/overview/ios-17/ios17_namedrop__cu0pp9gg0igm_large.jpg)\\n\\n**NameDrop.** Want to swap contact info with someone? Just bring your iPhone\\nclose to theirs. You can both choose what you want to share, and the\\ninformation transfers instantly.\\n\\n![](/v/iphone-15-pro/c/images/overview/ios-17/ios17_live_stickers__bzg6i1dezceq_large.jpg)\\n![](/v/iphone-15-pro/c/images/overview/ios-17/ios17_live_stickers__bzg6i1dezceq_large.jpg)\\n\\n**Live  Stickers. ** Touch and hold an object in a photo to lift it from the\\nbackground and create a sticker. Add effects like Puffy and Shiny. Or create\\nanimated stickers from Live Photos.\\n\\n[ Find out more about iOS 17 ](/ios/ios-17/)\\n\\n## Ecosystem\\n\\n### Significant  \\nothers.\\n\\n  * ####  iPhone and Mac\\n\\nYou can answer calls or messages from your iPhone directly on your Mac. Copy\\nimages, video, or text from your iPhone, then paste into another app on your\\nnearby Mac. And with iCloud, you can access your favorite files from either\\nyour iPhone or Mac.\\n\\n![The same Keynote file being opened on a Macbook Pro and iPhone 15\\nPro](/v/iphone-15-pro/c/images/overview/ecosystem/mac__xqjizmw0g02a_large.jpg)\\n![The same Keynote file being opened on a Macbook Pro and iPhone 15\\nPro](/v/iphone-15-pro/c/images/overview/ecosystem/mac__xqjizmw0g02a_large.jpg)\\n\\n  * ####  iPhone and Apple Watch\\n\\nMisplaced your iPhone? The latest Apple Watch models can show you its\\napproximate distance and direction.22 To set up a group photo on your iPhone,\\njoin the group and use Apple Watch as a viewfinder to snap the shot. And when\\nyou take a call on your Apple Watch, just tap your iPhone to continue the\\nconversation there.\\n\\n![The same photo of 2 women being shown on iPhone 15 Pro and Apple Watch\\nUltra](/v/iphone-15-pro/c/images/overview/ecosystem/watch__cdbpdbkas25e_large.jpg)\\n![The same photo of 2 women being shown on iPhone 15 Pro and Apple Watch\\nUltra](/v/iphone-15-pro/c/images/overview/ecosystem/watch__cdbpdbkas25e_large.jpg)\\n\\n  * ####  iPhone and AirPods\\n\\nSet up AirPods on iPhone with just a tap. You’ll love Adaptive Audio, which\\nautomatically tailors the noise control to provide the best listening\\nexperience across different environments and interactions throughout the day.\\n\\n![iPhone 15 Pro playing music next to Airpods\\nPro](/v/iphone-15-pro/c/images/overview/ecosystem/airpods__ew23qced7pkm_large.jpg)\\n![iPhone 15 Pro playing music next to Airpods\\nPro](/v/iphone-15-pro/c/images/overview/ecosystem/airpods__ew23qced7pkm_large.jpg)\\n\\n## Ways to shop and save at Apple.\\n\\n  * [Shop iPhone](/us/shop/goto/buy_iphone)\\n\\n  * ![](/v/iphone-15-pro/c/images/overview/why-apple/icon_trade_in__d55z58jpfkq6_large.png) ![](/v/iphone-15-pro/c/images/overview/why-apple/icon_trade_in__d55z58jpfkq6_large.png)\\n\\n### Save with Apple Trade In.\\n\\nGet credit toward iPhone 15 or iPhone 15 Pro when you trade in iPhone 11 or\\nhigher.*\\n\\n## Apple Trade In\\n\\nTrade in your eligible device for credit.\\n\\nSelect a new product and add a trade‑in. Once it’s received and verified,\\nwe’ll credit your payment method. Or, choose Apple Card Monthly Installments\\nand we’ll apply the credit instantly. Terms apply.\\n\\n[Learn more about Apple Trade In](/us/shop/goto/trade_in)\\n\\n  * ![](/v/iphone-15-pro/c/images/overview/why-apple/icon_apple_card__br1dqpcokob6_large.png) ![](/v/iphone-15-pro/c/images/overview/why-apple/icon_apple_card__br1dqpcokob6_large.png)\\n\\n### Pay over time, interest‑free.\\n\\nWhen you choose to check out with Apple Card Monthly Installments.23\\n\\n## Apple Card Monthly Installments\\n\\nPay monthly and enjoy 3% Daily Cash back.\\n\\nPay for your new iPhone over time, interest‑free when you choose to check out\\nwith Apple Card Monthly Installments.23 And get 3% Daily Cash back up front.\\nTerms apply.\\n\\n[Learn more about Apple Card Monthly Installments](/apple-card/monthly-\\ninstallments/)\\n\\n  * ![](/v/iphone-15-pro/c/images/overview/why-apple/icon_carrier_deals__gnerjzvk5yi6_large.png) ![](/v/iphone-15-pro/c/images/overview/why-apple/icon_carrier_deals__gnerjzvk5yi6_large.png)\\n\\n### iPhone carrier deals.  \\nRight here at Apple.  \\nFor as low as $0.\\n\\nIncludes trade‑in and carrier credits. AT&T: up to $1000. T‑Mobile: up to\\n$800. Verizon: up to $830.24\\n\\n[ ](/us/shop/goto/buy_iphone/carrier_offers)\\n\\n  * ![](/v/iphone-15-pro/c/images/overview/why-apple/icon_delivery__7dsc59n64uay_large.png) ![](/v/iphone-15-pro/c/images/overview/why-apple/icon_delivery__7dsc59n64uay_large.png)\\n\\n### Get flexible delivery and easy pickup.\\n\\nChoose two‑hour delivery from an Apple Store, free delivery, or easy pickup\\noptions.\\n\\n## Delivery & Pickup\\n\\nFlexible delivery  \\nand pickup options.\\n\\nGet your new Apple products quickly and easily with 2‑hour delivery from an\\nApple Store, free next‑day delivery, or convenient Apple pickup options.\\n\\n[Learn more about delivery and pickup options](/us/shop/goto/shipping_pickup)\\n\\n  * ![](/v/iphone-15-pro/c/images/overview/why-apple/icon_specialist_alt__blk2tpdy510i_large.png) ![](/v/iphone-15-pro/c/images/overview/why-apple/icon_specialist_alt__blk2tpdy510i_large.png)\\n\\n### Shop live with a Specialist.\\n\\nLet us guide you live over video and answer all of your questions.\\n\\n## Guided video shopping\\n\\nShop live with a Specialist.\\n\\nWe can help you choose the product you need while guiding you through the\\nonline Apple Store. Available 7 a.m.—7 p.m. PT\\n\\n[Shop together with a\\nSpecialist](https://contactretail.apple.com/?pg=iphone_15_pro&ap=COM&c=us&l=en&ag=SWSOV)\\n\\nOther ways to shop with a Specialist\\n\\n[Chat with us\\nonline](https://contactretail.apple.com/?ap=com&c=us&l=en&pg=iphone-product)\\n\\n[Sign with us online (ASL)](https://www.signtime.apple/en-US/retail/asl/)\\n\\nSupported by SignTime  \\nAvailable 5 a.m.—9 p.m. PT\\n\\nCall us at 1-800-MY-APPLE  \\nAvailable 5 a.m.—9 p.m. PT\\n\\n[Reserve an in‑store shopping session](/retail/instore-shopping-session/)\\n\\n  * ![](/v/iphone-15-pro/c/images/overview/why-apple/icon_personal__syhz3x97dxm6_large.png) ![](/v/iphone-15-pro/c/images/overview/why-apple/icon_personal__syhz3x97dxm6_large.png)\\n\\n### Get to know your new iPhone.\\n\\nLearn how to get the most out of your new iPhone with a free one‑on‑one\\nPersonal Session.\\n\\n## Online Personal Session\\n\\nGet to know your  \\nnew iPhone.\\n\\nWhether you’re new to your Apple device or need a refresher on the latest\\nfeatures, schedule a free one‑on‑one session with a Specialist to set up your\\niPhone and get it ready to use. We can show you how to get more from the\\nproducts you love — and even share our favorite tips.\\n\\n[Learn more about your new iPhone](/us/shop/goto/personal_session)\\n\\n  * ![](/v/iphone-15-pro/c/images/overview/why-apple/icon_shopping__e68344mtjqye_large.png) ![](/v/iphone-15-pro/c/images/overview/why-apple/icon_shopping__e68344mtjqye_large.png)\\n\\n### Explore a shopping experience designed around you.\\n\\nWhen you shop in the Apple Store app.\\n\\n## Apple Store app\\n\\nShop in the Apple Store app, tailored specifically for you.\\n\\nGet personalized product recommendations, compare models, find flexible\\npayment options, track your orders, and more.\\n\\nScan the QR code to get started.\\n\\n[Download the Apple Store app](https://apps.apple.com/us/app/apple-\\nstore/id375380948/)\\n\\n  *   * \\n\\n## Keep exploring iPhone.\\n\\n  * [Explore all iPhone](/iphone/)\\n\\n  * ###  New\\n\\niPhone 15 Pro\\n\\n[\\n![](/v/iphone-15-pro/c/images/overview/contrast/iphone_15pro__3nx4u28gc026_large.jpg)\\n![](/v/iphone-15-pro/c/images/overview/contrast/iphone_15pro__3nx4u28gc026_large.jpg)\\n](/iphone-15-pro/)\\n\\nAvailable in Natural Titanium, Blue Titanium, White Titanium, and Black\\nTitanium\\n\\n1\\n\\nCurrently viewingiPhone 15 Pro [Buy](/us/shop/goto/buy_iphone/iphone_15_pro)\\n\\n![](/v/iphone-15-pro/c/images/overview/contrast/icon_a17__dlzu2u0shq2q_large.png)\\n![](/v/iphone-15-pro/c/images/overview/contrast/icon_a17__dlzu2u0shq2q_large.png)\\n\\nA17 Pro chip  \\nwith 6-core GPU\\n\\n![](/v/iphone-15-pro/c/images/overview/contrast/icon_3camera__gci3u4rfz0y2_large.png)\\n![](/v/iphone-15-pro/c/images/overview/contrast/icon_3camera__gci3u4rfz0y2_large.png)\\n\\nPro camera system\\n\\nOur most advanced 48MP Main camera  \\n3x or 5x Telephoto camera  \\nUltra Wide camera\\n\\n![](/v/iphone-15-pro/c/images/overview/contrast/icon_battery__fztnats2mpme_large.png)\\n![](/v/iphone-15-pro/c/images/overview/contrast/icon_battery__fztnats2mpme_large.png)\\n\\nUp to 29 hours video playback25\\n\\n  * ###  New\\n\\niPhone 15\\n\\n[\\n![](/v/iphone-15-pro/c/images/overview/contrast/iphone_15__dthdw40fq0wi_large.jpg)\\n![](/v/iphone-15-pro/c/images/overview/contrast/iphone_15__dthdw40fq0wi_large.jpg)\\n](/iphone-15/)\\n\\nAvailable in Pink, Yellow, Green, Blue, and Black\\n\\n1\\n\\n[Learn more](/iphone-15/) [Buy](/us/shop/goto/buy_iphone/iphone_15)\\n\\n![](/v/iphone-15-pro/c/images/overview/contrast/icon_a16__ba4nssc8hgxu_large.png)\\n![](/v/iphone-15-pro/c/images/overview/contrast/icon_a16__ba4nssc8hgxu_large.png)\\n\\nA16 Bionic chip  \\nwith 5-core GPU\\n\\n![](/v/iphone-15-pro/c/images/overview/contrast/icon_2camera__e86tdourdb6m_large.png)\\n![](/v/iphone-15-pro/c/images/overview/contrast/icon_2camera__e86tdourdb6m_large.png)\\n\\nAdvanced dual-camera system\\n\\n48MP Main camera  \\n2x Telephoto  \\nUltra Wide camera\\n\\n![](/v/iphone-15-pro/c/images/overview/contrast/icon_battery__fztnats2mpme_large.png)\\n![](/v/iphone-15-pro/c/images/overview/contrast/icon_battery__fztnats2mpme_large.png)\\n\\nUp to 26 hours video playback25\\n\\n[ Compare all iPhone models ](/iphone/compare/)\\n\\n## iPhone\\n\\n### Explore iPhone\\n\\n  * [ Explore All iPhone ](/iphone/)\\n  * [ iPhone 15 Pro ](/iphone-15-pro/)\\n  * [ iPhone 15 ](/iphone-15/)\\n  * [ iPhone 14 ](/iphone-14/)\\n  * [ iPhone 13 ](/iphone-13/)\\n  * [ iPhone SE ](/iphone-se/)\\n  * [ Compare iPhone ](/iphone/compare/)\\n  * [ Switch from Android ](/iphone/switch/)\\n\\n### Shop iPhone\\n\\n  * [ Shop iPhone ](/us/shop/goto/buy_iphone)\\n  * [ iPhone Accessories ](/us/shop/goto/iphone/accessories)\\n  * [ Apple Trade In ](/us/shop/goto/trade_in)\\n  * [ Carrier Deals at Apple ](/us/shop/goto/buy_iphone/carrier_offers)\\n  * [ Financing ](/us/shop/goto/payment_plan)\\n\\n### Go Further\\n\\n  * [ iPhone Support ](https://support.apple.com/iphone?cid=gn-ols-iphone-psp-explore)\\n  * [ AppleCare+ for iPhone ](/support/products/iphone/)\\n  * [ iOS 17 ](/ios/ios-17/)\\n  * [ Apps by Apple ](/apps/)\\n  * [ iPhone Privacy ](/privacy/)\\n  * [ iCloud+ ](/icloud/)\\n  * [ Wallet, Pay, Card ](/wallet/)\\n  * [ Siri ](/siri/)\\n\\n## Apple Footer\\n\\n  * * Trade-in values will vary based on the condition, year, and configuration of your eligible trade-in device. Not all devices are eligible for credit. You must be at least 18 years old to be eligible to trade in for credit or for an Apple Gift Card. Trade-in value may be applied toward qualifying new device purchase, or added to an Apple Gift Card. Actual value awarded is based on receipt of a qualifying device matching the description provided when estimate was made. Sales tax maybe assessed on full value of a new device purchase. In-store trade-in requires presentation of a valid photo ID (local law may require saving this information). Offer may not be available in all stores, and may vary between in-store and online trade-in. Some stores may have additional requirements. Apple or its trade-in partners reserve the right to refuse or limit quantity of any trade-in transaction for any reason. More details are available from Apple’s trade-in partner for trade-in and recycling of eligible devices. Restrictions and limitations may apply.\\n\\n  1. Available to qualified customers and requires 24‑month installment loan when you select Citizens One or Apple Card Monthly Installments (ACMI) as payment type at checkout at Apple. You’ll need to select AT&T, T‑Mobile, or Verizon as your carrier when you check out. An iPhone purchased with ACMI is always unlocked, so you can switch carriers at any time. Subject to credit approval and credit limit. Taxes and shipping are not included in ACMI and are subject to your card’s variable APR. Additional Apple Card Monthly Installments terms are in the [Apple Card Customer Agreement](https://www.goldmansachs.com/terms-and-conditions/Apple-Card-Customer-Agreement.pdf). Additional iPhone Payments terms are [here](/legal/sales-support/iphoneinstallments_us/). ACMI is not available for purchases made online at special storefronts. The last month’s payment for each product will be the product’s purchase price, less all other payments at the monthly payment amount. ACMI financing is subject to change at any time for any reason, including but not limited to, installment term lengths and eligible products. See [support.apple.com/kb/HT211204](https://support.apple.com/kb/HT211204) for information about upcoming changes to ACMI financing.\\n  2. Display size: The display has rounded corners that follow a beautiful curved design, and these corners are within a standard rectangle. When measured as a standard rectangular shape, the screen is 6.12 inches (iPhone 15 Pro) or 6.69 inches (iPhone 15 Pro Max) diagonally. Actual viewable area is less.\\n  3. iPhone 15 Pro and iPhone 15 Pro Max are splash, water, and dust resistant and were tested under controlled laboratory conditions with a rating of IP68 under IEC standard 60529 (maximum depth of 6 meters up to 30 minutes). Splash, water, and dust resistance are not permanent conditions. Resistance might decrease as a result of normal wear. Do not attempt to charge a wet iPhone; refer to the user guide for cleaning and drying instructions. Liquid damage not covered under warranty.\\n  4. Stand sold separately.\\n  5. Apple Vision Pro is available early 2024 in the U.S.\\n  6. USB 3 cable with 10Gb/s speed required.\\n  7. Wi‑Fi 6E available in countries and regions where supported.\\n  8. The included USB‑C Charge Cable is compatible with AirPods Pro (2nd generation) with MagSafe Charging Case (USB‑C).\\n  9. Testing conducted by Apple in August 2023 using preproduction iPhone 15, iPhone 15 Plus, iPhone 15 Pro and iPhone 15 Pro Max units and software and accessory Apple USB-C Power Adapter (20W Model A2305). Fast-charge testing conducted with drained iPhone units. Charge time varies with settings and environmental factors; actual results will vary.\\n  10. Ultra Wideband availability varies by region.\\n  11. iPhone 15 models are activated with an eSIM and do not support a physical SIM. Use of an eSIM requires a carrier that supports eSIM and a wireless service plan (which may include restrictions on switching service providers and roaming, even after contract expiration). See your carrier for details. To learn more, visit [apple.com/esim](/esim/).\\n  12. Data plan required. 5G is available in select markets and through select carriers. Speeds vary based on site conditions and carrier. For details on 5G support, contact your carrier and see [apple.com/iphone/cellular](/iphone/cellular/).\\n  13. All battery claims depend on network configuration and many other factors; actual results will vary. Battery has limited recharge cycles and may eventually need to be replaced. Battery life and charge cycles vary by use and settings. See [apple.com/batteries](/batteries/) and [apple.com/iphone/battery.html](/iphone/battery.html) for more information.\\n  14. Accessories sold separately.\\n  15. Roadside Assistance and Emergency SOS via satellite are included for free for two years with the activation of any iPhone 15 model. Connection and response times vary based on location, site conditions, and other factors. See [support.apple.com/kb/HT213885](https://support.apple.com/kb/HT213885) for more information.\\n  16. iPhone 15 and iPhone 15 Pro can detect a severe car crash and call for help. Requires a cellular connection or Wi‑Fi calling.\\n  17. Fees are determined by the roadside assistance provider, and can vary based on your location and the type of assistance provided. See [support.apple.com/kb/HT213885](https://support.apple.com/kb/HT213885) for more information.\\n  18. On a mass balance allocation.\\n  19. Breakdown of U.S. retail packaging by weight. Adhesives, inks, and coatings are excluded from our calculations of plastic content and packaging weight.\\n  20. Responsible sourcing of wood fiber is defined in Apple’s Responsible Fiber Specification. We consider wood fibers to include bamboo.\\n  21. Door Detection and Point and Speak can read signs and labels in Cantonese (Simplified, Traditional), Chinese (Simplified, Traditional), English (U.S.), French (France), German (Germany), Italian (Italy), Japanese (Japan), Korean (Korea), Portuguese (Brazil), Russian (Russia), Spanish (Spain), and Ukrainian (Ukraine). Detection Mode should not be relied on in circumstances where you may be harmed or injured or in high-risk or emergency situations.\\n  22. Requires an iPhone and Apple Watch with second-generation Ultra Wideband chip. Ultra Wideband availability varies by region.\\n  23. Apple Card Monthly Installments (ACMI) is a 0% APR payment option that is only available if you select it at checkout in the U.S. for eligible Apple products purchased at Apple Store locations, [apple.com](/), the Apple Store app, or by calling 1‑800‑MY‑APPLE, and is subject to credit approval and credit limit. See [support.apple.com/kb/HT211204](https://support.apple.com/kb/HT211204) for more information about eligible products. APR ranges may vary based on when you accepted an Apple Card. Cardholders who accept an Apple Card on and/or after August 10, 2023: Variable APRs for Apple Card, other than ACMI, range from 19.24% to 29.49% based on creditworthiness. Rates as of August 10, 2023. Existing cardholders: See your Customer Agreement for applicable rates and fee. If you buy an ACMI eligible product by choosing to pay in full with Apple Card (instead of using ACMI), that purchase is subject to the Apple Card variable APR, not 0% APR. Taxes and shipping on ACMI purchases are subject to the variable APR, not 0% APR. You’ll need to select AT&T;, T‑Mobile, or Verizon as your carrier when you check out. An iPhone purchased with ACMI is always unlocked, so you can switch carriers at any time. ACMI is not available for purchases made online at the following special stores: Apple Employee Purchase Plan; participating corporate Employee Purchase Programs; Apple at Work for small businesses; Government, and Veterans and Military Purchase Programs, or on refurbished devices. The last month’s payment for each product will be the product’s purchase price, less all other payments at the monthly payment amount. ACMI financing is subject to change at any time for any reason, including but not limited to, installment term lengths and eligible products. See [support.apple.com/kb/HT211204](https://support.apple.com/kb/HT211204) for information about upcoming changes to ACMI financing. See the [Apple Card Customer Agreement](https://www.goldmansachs.com/terms-and-conditions/Apple-Card-Customer-Agreement.pdf) for more information about ACMI financing. \\n  24. AT&T iPhone 15 Special Deal: Monthly price reflects net monthly payment, after application of AT&T trade‑in credit applied over 36 months with purchase of an iPhone 15 Pro, iPhone 15 Pro Max, iPhone 15, or iPhone 15 Plus and trade‑in of eligible smartphone. Receive credit with purchase of an iPhone 15 Pro or iPhone 15 Pro Max of either $1000, $700, or $350 (based upon the model and condition of your trade‑in smartphone). Receive credit with purchase of an iPhone 15 or iPhone 15 Plus of either $700 or $350 (based upon the model and condition of your trade‑in smartphone). Max bill credits will not exceed the cost of the device. Requires upgrade of an existing line or activation of a new line and purchase of a new iPhone 15 Pro, iPhone 15 Pro Max, iPhone 15, or iPhone 15 Plus on qualifying 36 month 0% APR installment plan, subject to carrier credit qualification. AT&T Installment Plan with Next Up is not eligible for this promotion. $0 down for well qualified customers only, or down payment may be required and depends on a variety of factors. Tax on full retail price due at sale. Requires activation on eligible unlimited plan. If you cancel eligible wireless service, credits will stop and you will owe the remaining device balance. Activation/Upgrade Fee: $35. Trade in device may not be on existing installment plan. Bill credits are applied as a monthly credit over the 36 month installment plan. Credits start within 3 bills. Will receive catchup credits once credits start. Wireless line must be on an installment agreement, active, and in good standing for 30 days to qualify. Installment agreement starts when device is shipped. To get all credits, device must remain on agreement for entire term and you must keep eligible service on device for entire installment term. Limited time offer; subject to change. Limits: one trade‑in per qualifying purchase and one credit per line. May not be combinable with other offers, discounts, or credits. Purchase, financing, other limits, and restrictions apply. Price for iPhone 15 and iPhone 15 Plus includes $30 AT&T connectivity discount. Activation required.\\n\\nT‑Mobile iPhone 15 Special Deal: Monthly price reflects net monthly payment,\\nafter application of T‑Mobile trade‑in credit applied over 24 months with\\npurchase of an iPhone 15 Pro, iPhone 15 Pro Max, iPhone 15, or iPhone 15 Plus\\nand trade‑in of eligible smartphone. Receive credit with purchase of an iPhone\\n15, iPhone 15 Plus, iPhone 15 Pro, or iPhone 15 Pro Max of $800 or $400 for\\ncustomers on a Go5G Plus plan (based upon the model and condition of your\\ntrade‑in smartphone); or $300 or $150 for customers on a Go5G, TMO ONE, TMO\\nONE Plus, Magenta, Magenta MAX, or Magenta Plus plan (based upon the model and\\ncondition of your trade‑in smartphone). Max bill credits will not exceed the\\ncost of the device. Credit comprised of (i) Apple instant trade‑in credit at\\ncheckout and (ii) T‑Mobile monthly bill credits applied over 24 months. Allow\\n2 bill cycles from valid submission and validation of trade‑in. Tax on pre-\\ncredit price due at sale. Limited-time offer; subject to change. Qualifying\\ncredit, data plan, and trade‑in in good condition required. Max 4 promotional\\noffers on any iPhone per account. May not be combinable with some offers or\\ndiscounts. Price for iPhone 15 and iPhone 15 Plus includes $30 T‑Mobile\\nconnectivity discount. Activation required. Contact T‑Mobile before cancelling\\nservice to continue remaining bill credits on current device, or credits stop\\n& balance on required finance agreement is due.\\n\\nVerizon iPhone 15 Special Deal: Monthly price reflects net monthly payment,\\nafter application of Verizon trade‑in credit applied over 36 months with\\npurchase of an iPhone 15 Pro, iPhone 15 Pro Max, iPhone 15, or iPhone 15 Plus.\\nReceive credit with purchase of an iPhone 15, iPhone 15 Plus, iPhone 15 Pro,\\nor iPhone 15 Pro Max of $830 or $415 for customers on an Unlimited Ultimate,\\nOne Unlimited, or 5G Get More plan (based upon the model and condition of your\\ntrade‑in smartphone); or $415 or $200 for customers on an Unlimited Plus, 5G\\nDo More, or 5G Play More plan (based upon the model and condition of your\\ntrade‑in smartphone). Max bill credits will not exceed the cost of the device.\\nMust be an existing Verizon customer. Credit comprised of (i) Apple instant\\ntrade‑in credit at checkout and (ii) Verizon monthly bill credits applied over\\n36 months. Customer must remain in the Verizon Device Payment Program for 36\\nmonths to receive the full benefit of the Verizon bill credits. Bill credits\\nmay take 1‑2 bill cycles to appear. If it takes two cycles for bill credits to\\nappear, you’ll see the credit for the first cycle on your second bill in\\naddition to that month’s credit. Requires purchase and activation of a new\\niPhone 15 Pro, iPhone 15 Pro Max, iPhone 15, or iPhone 15 Plus with the\\nVerizon Device Payment Program at 0% APR for 36 months, subject to carrier\\ncredit qualification, and iPhone availability and limits. Taxes and shipping\\nnot included in monthly price. Sales tax may be assessed on full value of new\\niPhone. Requires eligible unlimited service plan. Requires trade‑in of\\neligible device in eligible condition. Must be at least 18 to trade‑in. Apple\\nor its trade‑in partners reserve the right to refuse or limit any trade‑in\\ntransaction for any reason. In‑store trade‑in requires presentation of a\\nvalid, government‑issued photo ID (local law may require saving this\\ninformation). In‑store promotion availability subject to local law; speak to a\\nSpecialist to learn more. Limited‑time offer; subject to change. Additional\\nterms from Apple, Verizon, and Apple’s trade‑in partners may apply. Price for\\niPhone 15 and iPhone 15 Plus includes $30 Verizon connectivity discount.\\nActivation required.\\n\\n  25. Battery life claim refers to larger models. All battery claims depend on network configuration and many other factors; actual results will vary. Battery has limited recharge cycles and may eventually need to be replaced. Battery life and charge cycles vary by use and settings. See [apple.com/batteries](/batteries/) and [apple.com/iphone/battery.html](/iphone/battery.html) for more information.\\n\\n  * Apps are available on the App Store. Title availability is subject to change.\\n  * Apple TV+ requires a subscription.\\n  * To access and use all Apple Card features and products available only to Apple Card users, you must add Apple Card to Wallet on an iPhone or iPad that supports and has the latest version of iOS or iPadOS. Apple Card is subject to credit approval, available only for qualifying applicants in the United States, and issued by Goldman Sachs Bank USA, Salt Lake City Branch.\\n\\nIf you reside in the U.S. territories, please call Goldman Sachs at\\n877‑255‑5923 with questions about Apple Card.\\n\\n[ \\uf8ff Apple ](/)\\n\\n  1. [iPhone](/iphone/)\\n  2. iPhone 15 Pro\\n\\n###  Shop and Learn Shop and Learn\\n\\n  * [Store](/us/shop/goto/store)\\n  * [Mac](/mac/)\\n  * [iPad](/ipad/)\\n  * [iPhone](/iphone/)\\n  * [Watch](/watch/)\\n  * [Vision](/apple-vision-pro/)\\n  * [AirPods](/airpods/)\\n  * [TV & Home](/tv-home/)\\n  * [AirTag](/airtag/)\\n  * [Accessories](/us/shop/goto/buy_accessories)\\n  * [Gift Cards](/us/shop/goto/giftcards)\\n\\n###  Apple Wallet Apple Wallet\\n\\n  * [Wallet](/wallet/)\\n  * [Apple Card](/apple-card/)\\n  * [Apple Pay](/apple-pay/)\\n  * [Apple Cash](/apple-cash/)\\n\\n###  Account Account\\n\\n  * [Manage Your Apple ID](https://appleid.apple.com/us/)\\n  * [Apple Store Account](/us/shop/goto/account)\\n  * [iCloud.com](https://www.icloud.com)\\n\\n###  Entertainment Entertainment\\n\\n  * [Apple One](/apple-one/)\\n  * [Apple TV+](/apple-tv-plus/)\\n  * [Apple Music](/apple-music/)\\n  * [Apple Arcade](/apple-arcade/)\\n  * [Apple Fitness+](/apple-fitness-plus/)\\n  * [Apple News+](/apple-news/)\\n  * [Apple Podcasts](/apple-podcasts/)\\n  * [Apple Books](/apple-books/)\\n  * [App Store](/app-store/)\\n\\n###  Apple Store Apple Store\\n\\n  * [Find a Store](/retail/)\\n  * [Genius Bar](/retail/geniusbar/)\\n  * [Today at Apple](/today/)\\n  * [Apple Camp](/today/camp/)\\n  * [Apple Store App](https://apps.apple.com/us/app/apple-store/id375380948)\\n  * [Certified Refurbished](/us/shop/goto/special_deals)\\n  * [Apple Trade In](/us/shop/goto/trade_in)\\n  * [Financing](/us/shop/goto/payment_plan)\\n  * [Carrier Deals at Apple](/us/shop/goto/buy_iphone/carrier_offers)\\n  * [Order Status](/us/shop/goto/order/list)\\n  * [Shopping Help](/us/shop/goto/help)\\n\\n###  For Business For Business\\n\\n  * [Apple and Business](/business/)\\n  * [Shop for Business](/retail/business/)\\n\\n###  For Education For Education\\n\\n  * [Apple and Education](/education/)\\n  * [Shop for K-12](/education/k12/how-to-buy/)\\n  * [Shop for College](/us/shop/goto/educationrouting)\\n\\n###  For Healthcare For Healthcare\\n\\n  * [Apple in Healthcare](/healthcare/)\\n  * [Health on Apple Watch](/healthcare/apple-watch/)\\n  * [Health Records on iPhone](/healthcare/health-records/)\\n\\n###  For Government For Government\\n\\n  * [Shop for Government](/r/store/government/)\\n  * [Shop for Veterans and Military](/us/shop/goto/eppstore/veteransandmilitary)\\n\\n###  Apple Values Apple Values\\n\\n  * [Accessibility](/accessibility/)\\n  * [Education](/education-initiative/)\\n  * [Environment](/environment/)\\n  * [Inclusion and Diversity](/diversity/)\\n  * [Privacy](/privacy/)\\n  * [Racial Equity and Justice](/racial-equity-justice-initiative/)\\n  * [Supplier Responsibility](/supplier-responsibility/)\\n\\n###  About Apple About Apple\\n\\n  * [Newsroom](/newsroom/)\\n  * [Apple Leadership](/leadership/)\\n  * [Career Opportunities](/careers/us/)\\n  * [Investors](https://investor.apple.com/)\\n  * [Ethics & Compliance](/compliance/)\\n  * [Events](/apple-events/)\\n  * [Contact Apple](/contact/)\\n\\nMore ways to shop: [Find an Apple Store](/retail/) or [other\\nretailer](https://locate.apple.com/) near you. Or call 1-800-MY-APPLE.\\n\\n[United States](/choose-country-region/ \"Choose your country or region\")\\n\\nCopyright © 2024 Apple Inc. All rights reserved.\\n\\n  * [Privacy Policy](/legal/privacy/)\\n  * [Terms of Use](/legal/internet-services/terms/site.html)\\n  * [Sales and Refunds](/us/shop/goto/help/sales_refunds)\\n  * [Legal](/legal/)\\n  * [Site Map](/sitemap/)\\n\\n', start_char_idx=None, end_char_idx=None, text_template='{metadata_str}\\n\\n{content}', metadata_template='{key}: {value}', metadata_seperator='\\n')"
     },
     "execution_count": 9,
     "metadata": {},
     "output_type": "execute_result"
    }
   ],
   "source": [
    "documents[0]"
   ],
   "metadata": {
    "collapsed": false,
    "ExecuteTime": {
     "end_time": "2024-01-14T17:35:23.015492649Z",
     "start_time": "2024-01-14T17:35:22.979113911Z"
    }
   },
   "execution_count": 9
  },
  {
   "cell_type": "code",
   "outputs": [],
   "source": [
    "from openai import OpenAI"
   ],
   "metadata": {
    "collapsed": false,
    "ExecuteTime": {
     "end_time": "2024-01-14T18:12:13.291218337Z",
     "start_time": "2024-01-14T18:12:13.031081935Z"
    }
   },
   "execution_count": 16
  },
  {
   "cell_type": "code",
   "outputs": [],
   "source": [
    "client = OpenAI()"
   ],
   "metadata": {
    "collapsed": false,
    "ExecuteTime": {
     "end_time": "2024-01-14T18:12:16.953863431Z",
     "start_time": "2024-01-14T18:12:16.910588043Z"
    }
   },
   "execution_count": 17
  },
  {
   "cell_type": "code",
   "outputs": [
    {
     "data": {
      "text/plain": "ChatCompletionMessage(content='The 2020 World Series was played at Globe Life Field in Arlington, Texas.', role='assistant', function_call=None, tool_calls=None)"
     },
     "execution_count": 18,
     "metadata": {},
     "output_type": "execute_result"
    }
   ],
   "source": [
    "response = client.chat.completions.create(\n",
    "  model=\"gpt-3.5-turbo\",\n",
    "  messages=[\n",
    "    {\"role\": \"system\", \"content\": \"You are a helpful assistant.\"},\n",
    "    {\"role\": \"user\", \"content\": \"Who won the world series in 2020?\"},\n",
    "    {\"role\": \"assistant\", \"content\": \"The Los Angeles Dodgers won the World Series in 2020.\"},\n",
    "    {\"role\": \"user\", \"content\": \"Where was it played?\"}\n",
    "  ]\n",
    ")\n",
    "response.choices[0].message"
   ],
   "metadata": {
    "collapsed": false,
    "ExecuteTime": {
     "end_time": "2024-01-14T18:12:33.336766430Z",
     "start_time": "2024-01-14T18:12:31.929621755Z"
    }
   },
   "execution_count": 18
  },
  {
   "cell_type": "code",
   "outputs": [],
   "source": [
    "import openai\n",
    "import os\n",
    "\n",
    "openai.api_key  = os.getenv('OPENAI_API_KEY')"
   ],
   "metadata": {
    "collapsed": false,
    "ExecuteTime": {
     "end_time": "2024-01-14T18:12:46.689877907Z",
     "start_time": "2024-01-14T18:12:46.648674178Z"
    }
   },
   "execution_count": 19
  },
  {
   "cell_type": "code",
   "outputs": [],
   "source": [
    "def get_completion(prompt, model=\"gpt-3.5-turbo\"):\n",
    "    messages = [{\"role\": \"user\", \"content\": prompt}]\n",
    "    response = client.chat.completions.create(\n",
    "        model=model,\n",
    "        messages=messages,\n",
    "        temperature=0, # this is the degree of randomness of the model's output\n",
    "    )\n",
    "    return response.choices[0].message.content"
   ],
   "metadata": {
    "collapsed": false,
    "ExecuteTime": {
     "end_time": "2024-01-14T18:12:50.013543873Z",
     "start_time": "2024-01-14T18:12:50.004064478Z"
    }
   },
   "execution_count": 20
  },
  {
   "cell_type": "code",
   "outputs": [
    {
     "data": {
      "text/plain": "'Humor, Q&A, Gaming, Cute Content, Music, Photography, World News, Science, Movies, Interesting Facts, Video Content, News, Thoughtful Insights, Comedy, Food, Science Questions, Personal Stories, Nature Photography, GIFs, Odd News, Book Recommendation, DIY Projects, Simple Explanations, Life Tips, Social Media, Car Advice, Car Selection, Safety Insights, Positive Memes, Videos, Memes, GIFs, Entertainment News, Film Discussion, Music Discovery, Music, Future Tech, Science Q&A, Nature, Environment, Hair Care, Beauty Tips, Fashion, Inclusive Beauty, Culinary Delights, Physical Fitness, Nutrition, Motivation, Cosmetics'"
     },
     "execution_count": 105,
     "metadata": {},
     "output_type": "execute_result"
    }
   ],
   "source": [
    "subreddit_keywords = [\n",
    "    \"Humor\",             # /r/funny\n",
    "    \"Q&A\",   # /r/AskReddit\n",
    "    \"Gaming\",            # /r/gaming\n",
    "    \"Cute Content\",      # /r/aww\n",
    "    \"Music\",             # /r/Music\n",
    "    \"Photography\",       # /r/pics\n",
    "    \"World News\",        # /r/worldnews\n",
    "    \"Science\",           # /r/science\n",
    "    \"Movies\",            # /r/movies\n",
    "    \"Interesting Facts\", # /r/todayilearned\n",
    "    \"Video Content\",     # /r/videos\n",
    "    \"News\",              # /r/news\n",
    "    \"Thoughtful Insights\", # /r/Showerthoughts\n",
    "    \"Comedy\",            # /r/Jokes\n",
    "    \"Food\",              # /r/food\n",
    "    \"Science Questions\", # /r/askscience\n",
    "    \"Personal Stories\",  # /r/IAmA\n",
    "    \"Nature Photography\",# /r/EarthPorn\n",
    "    \"GIFs\",              # /r/gifs\n",
    "    \"Odd News\",          # /r/nottheonion\n",
    "    \"Book Recommendation\",             # /r/books\n",
    "    \"DIY Projects\",      # /r/DIY\n",
    "    \"Simple Explanations\", # /r/explainlikeimfive\n",
    "    \"Life Tips\",         # /r/LifeProTips\n",
    "    \"Social Media\",      # Additional subreddits start here\n",
    "    \"Car Advice\",\n",
    "    \"Car Selection\",\n",
    "    \"Safety Insights\",\n",
    "    \"Positive Memes\",\n",
    "    \"Videos\",\n",
    "    \"Memes\",\n",
    "    \"GIFs\",\n",
    "    \"Entertainment News\",\n",
    "    \"Film Discussion\",\n",
    "    \"Music Discovery\",\n",
    "    \"Music\",\n",
    "    \"Future Tech\",\n",
    "    \"Science Q&A\",\n",
    "    \"Nature\",\n",
    "    \"Environment\",\n",
    "    \"Hair Care\",\n",
    "    \"Beauty Tips\",\n",
    "    \"Fashion\",\n",
    "    \"Inclusive Beauty\",\n",
    "    \"Culinary Delights\",\n",
    "    \"Physical Fitness\",\n",
    "    \"Nutrition\",\n",
    "    \"Motivation\",\n",
    "    \"Cosmetics\"\n",
    "]\n",
    "', '.join(subreddit_keywords)"
   ],
   "metadata": {
    "collapsed": false,
    "ExecuteTime": {
     "end_time": "2024-01-14T19:00:54.162915455Z",
     "start_time": "2024-01-14T19:00:54.155818326Z"
    }
   },
   "execution_count": 105
  },
  {
   "cell_type": "code",
   "outputs": [
    {
     "name": "stdout",
     "output_type": "stream",
     "text": [
      "Standard meta tag\n",
      "\n",
      "List up to 3 Reddit subreddits or online communities the below link in brackets most likely to appear in, output in JSON format the community prediction with probability, leave out the prefix \"r/\" if present\n",
      "(\n",
      "URL: https://games.slashdot.org/story/24/01/14/0257246/atari-will-release-a-mini-edition-of-its-1979-atari-400-which-had-an-8-bit-mos-6502-cpu\n",
      "Title: Atari Will Release a Mini Edition of Its 1979 Atari 400 (Which Had An 8-Bit MOS 6502 CPU) - Slashdot\n",
      "Description: An 1979 Atari 8-bit system re-released in a tiny form factor?  Yep.  \n",
      " Retro Games Ltd. is releasing a \"half-sized\" version of its very first home computer, the Atari 400, \"emulating the whole 8-bit Atari range, including the 400/800, XL and XE series, and the 5200 home console.   (\"In 1979 Atari br...\n",
      ")\n",
      "{\n",
      "  \"community_predictions\": [\n",
      "    {\n",
      "      \"subreddit\": \"gaming\",\n",
      "      \"probability\": 0.8\n",
      "    },\n",
      "    {\n",
      "      \"subreddit\": \"retrogaming\",\n",
      "      \"probability\": 0.6\n",
      "    },\n",
      "    {\n",
      "      \"subreddit\": \"atari\",\n",
      "      \"probability\": 0.5\n",
      "    }\n",
      "  ]\n",
      "}\n"
     ]
    }
   ],
   "source": [
    "url = 'https://games.slashdot.org/story/24/01/14/0257246/atari-will-release-a-mini-edition-of-its-1979-atari-400-which-had-an-8-bit-mos-6502-cpu'\n",
    "response = requests.get(url)\n",
    "response.raise_for_status()\n",
    "soup = BeautifulSoup(response.content, 'html.parser')\n",
    "title = extract_title(soup)\n",
    "description = extract_description(soup)\n",
    "\n",
    "prompt = f'''\n",
    "List up to 3 Reddit subreddits or online communities the below link in brackets most likely to appear in, output in JSON format the community prediction with probability, leave out the prefix \"r/\" if present\n",
    "(\n",
    "URL: {url}\n",
    "Title: {title}\n",
    "Description: {description}\n",
    ")\n",
    "'''\n",
    "\n",
    "print(prompt)\n",
    "response = get_completion(prompt)\n",
    "print(response)"
   ],
   "metadata": {
    "collapsed": false,
    "ExecuteTime": {
     "end_time": "2024-01-14T19:23:35.979309332Z",
     "start_time": "2024-01-14T19:23:32.152092657Z"
    }
   },
   "execution_count": 162
  },
  {
   "cell_type": "code",
   "outputs": [
    {
     "ename": "ValueError",
     "evalue": "'Software Development' is not in list",
     "output_type": "error",
     "traceback": [
      "\u001B[0;31m---------------------------------------------------------------------------\u001B[0m",
      "\u001B[0;31mValueError\u001B[0m                                Traceback (most recent call last)",
      "Cell \u001B[0;32mIn[107], line 1\u001B[0m\n\u001B[0;32m----> 1\u001B[0m \u001B[43msubreddit_keywords\u001B[49m\u001B[38;5;241;43m.\u001B[39;49m\u001B[43mindex\u001B[49m\u001B[43m(\u001B[49m\u001B[38;5;124;43m'\u001B[39;49m\u001B[38;5;124;43mSoftware Development\u001B[39;49m\u001B[38;5;124;43m'\u001B[39;49m\u001B[43m)\u001B[49m\n",
      "\u001B[0;31mValueError\u001B[0m: 'Software Development' is not in list"
     ]
    }
   ],
   "source": [
    "subreddit_keywords.index('Software Development')"
   ],
   "metadata": {
    "collapsed": false,
    "ExecuteTime": {
     "end_time": "2024-01-14T19:01:36.077984749Z",
     "start_time": "2024-01-14T19:01:36.035349744Z"
    }
   },
   "execution_count": 107
  },
  {
   "cell_type": "code",
   "outputs": [],
   "source": [],
   "metadata": {
    "collapsed": false
   }
  }
 ],
 "metadata": {
  "kernelspec": {
   "display_name": "venv",
   "language": "python",
   "name": "python3"
  },
  "language_info": {
   "codemirror_mode": {
    "name": "ipython",
    "version": 3
   },
   "file_extension": ".py",
   "mimetype": "text/x-python",
   "name": "python",
   "nbconvert_exporter": "python",
   "pygments_lexer": "ipython3",
   "version": "3.12.1"
  }
 },
 "nbformat": 4,
 "nbformat_minor": 2
}
